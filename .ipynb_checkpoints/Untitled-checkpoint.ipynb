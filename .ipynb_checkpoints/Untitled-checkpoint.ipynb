{
 "cells": [
  {
   "cell_type": "code",
   "execution_count": 1,
   "id": "280e676e",
   "metadata": {},
   "outputs": [],
   "source": [
    "import pandas as pd\n",
    "import numpy as np\n",
    "import matplotlib.pyplot as plt\n",
    "import seaborn as sns\n",
    "%matplotlib inline"
   ]
  },
  {
   "cell_type": "code",
   "execution_count": 225,
   "id": "81adea9f",
   "metadata": {},
   "outputs": [],
   "source": [
    "df_train = pd.read_csv('train.csv')\n",
    "df_test = pd.read_csv('test.csv')\n",
    "sample = pd.read_csv('sample_submission.csv')"
   ]
  },
  {
   "cell_type": "code",
   "execution_count": 3,
   "id": "c3a0c4ae",
   "metadata": {},
   "outputs": [
    {
     "data": {
      "text/html": [
       "<div>\n",
       "<style scoped>\n",
       "    .dataframe tbody tr th:only-of-type {\n",
       "        vertical-align: middle;\n",
       "    }\n",
       "\n",
       "    .dataframe tbody tr th {\n",
       "        vertical-align: top;\n",
       "    }\n",
       "\n",
       "    .dataframe thead th {\n",
       "        text-align: right;\n",
       "    }\n",
       "</style>\n",
       "<table border=\"1\" class=\"dataframe\">\n",
       "  <thead>\n",
       "    <tr style=\"text-align: right;\">\n",
       "      <th></th>\n",
       "      <th>PassengerId</th>\n",
       "      <th>HomePlanet</th>\n",
       "      <th>CryoSleep</th>\n",
       "      <th>Cabin</th>\n",
       "      <th>Destination</th>\n",
       "      <th>Age</th>\n",
       "      <th>VIP</th>\n",
       "      <th>RoomService</th>\n",
       "      <th>FoodCourt</th>\n",
       "      <th>ShoppingMall</th>\n",
       "      <th>Spa</th>\n",
       "      <th>VRDeck</th>\n",
       "      <th>Name</th>\n",
       "      <th>Transported</th>\n",
       "    </tr>\n",
       "  </thead>\n",
       "  <tbody>\n",
       "    <tr>\n",
       "      <th>0</th>\n",
       "      <td>0001_01</td>\n",
       "      <td>Europa</td>\n",
       "      <td>False</td>\n",
       "      <td>B/0/P</td>\n",
       "      <td>TRAPPIST-1e</td>\n",
       "      <td>39.0</td>\n",
       "      <td>False</td>\n",
       "      <td>0.0</td>\n",
       "      <td>0.0</td>\n",
       "      <td>0.0</td>\n",
       "      <td>0.0</td>\n",
       "      <td>0.0</td>\n",
       "      <td>Maham Ofracculy</td>\n",
       "      <td>False</td>\n",
       "    </tr>\n",
       "    <tr>\n",
       "      <th>1</th>\n",
       "      <td>0002_01</td>\n",
       "      <td>Earth</td>\n",
       "      <td>False</td>\n",
       "      <td>F/0/S</td>\n",
       "      <td>TRAPPIST-1e</td>\n",
       "      <td>24.0</td>\n",
       "      <td>False</td>\n",
       "      <td>109.0</td>\n",
       "      <td>9.0</td>\n",
       "      <td>25.0</td>\n",
       "      <td>549.0</td>\n",
       "      <td>44.0</td>\n",
       "      <td>Juanna Vines</td>\n",
       "      <td>True</td>\n",
       "    </tr>\n",
       "    <tr>\n",
       "      <th>2</th>\n",
       "      <td>0003_01</td>\n",
       "      <td>Europa</td>\n",
       "      <td>False</td>\n",
       "      <td>A/0/S</td>\n",
       "      <td>TRAPPIST-1e</td>\n",
       "      <td>58.0</td>\n",
       "      <td>True</td>\n",
       "      <td>43.0</td>\n",
       "      <td>3576.0</td>\n",
       "      <td>0.0</td>\n",
       "      <td>6715.0</td>\n",
       "      <td>49.0</td>\n",
       "      <td>Altark Susent</td>\n",
       "      <td>False</td>\n",
       "    </tr>\n",
       "    <tr>\n",
       "      <th>3</th>\n",
       "      <td>0003_02</td>\n",
       "      <td>Europa</td>\n",
       "      <td>False</td>\n",
       "      <td>A/0/S</td>\n",
       "      <td>TRAPPIST-1e</td>\n",
       "      <td>33.0</td>\n",
       "      <td>False</td>\n",
       "      <td>0.0</td>\n",
       "      <td>1283.0</td>\n",
       "      <td>371.0</td>\n",
       "      <td>3329.0</td>\n",
       "      <td>193.0</td>\n",
       "      <td>Solam Susent</td>\n",
       "      <td>False</td>\n",
       "    </tr>\n",
       "    <tr>\n",
       "      <th>4</th>\n",
       "      <td>0004_01</td>\n",
       "      <td>Earth</td>\n",
       "      <td>False</td>\n",
       "      <td>F/1/S</td>\n",
       "      <td>TRAPPIST-1e</td>\n",
       "      <td>16.0</td>\n",
       "      <td>False</td>\n",
       "      <td>303.0</td>\n",
       "      <td>70.0</td>\n",
       "      <td>151.0</td>\n",
       "      <td>565.0</td>\n",
       "      <td>2.0</td>\n",
       "      <td>Willy Santantines</td>\n",
       "      <td>True</td>\n",
       "    </tr>\n",
       "  </tbody>\n",
       "</table>\n",
       "</div>"
      ],
      "text/plain": [
       "  PassengerId HomePlanet CryoSleep  Cabin  Destination   Age    VIP  \\\n",
       "0     0001_01     Europa     False  B/0/P  TRAPPIST-1e  39.0  False   \n",
       "1     0002_01      Earth     False  F/0/S  TRAPPIST-1e  24.0  False   \n",
       "2     0003_01     Europa     False  A/0/S  TRAPPIST-1e  58.0   True   \n",
       "3     0003_02     Europa     False  A/0/S  TRAPPIST-1e  33.0  False   \n",
       "4     0004_01      Earth     False  F/1/S  TRAPPIST-1e  16.0  False   \n",
       "\n",
       "   RoomService  FoodCourt  ShoppingMall     Spa  VRDeck               Name  \\\n",
       "0          0.0        0.0           0.0     0.0     0.0    Maham Ofracculy   \n",
       "1        109.0        9.0          25.0   549.0    44.0       Juanna Vines   \n",
       "2         43.0     3576.0           0.0  6715.0    49.0      Altark Susent   \n",
       "3          0.0     1283.0         371.0  3329.0   193.0       Solam Susent   \n",
       "4        303.0       70.0         151.0   565.0     2.0  Willy Santantines   \n",
       "\n",
       "   Transported  \n",
       "0        False  \n",
       "1         True  \n",
       "2        False  \n",
       "3        False  \n",
       "4         True  "
      ]
     },
     "execution_count": 3,
     "metadata": {},
     "output_type": "execute_result"
    }
   ],
   "source": [
    "df_train.head()"
   ]
  },
  {
   "cell_type": "markdown",
   "id": "af5d6eab",
   "metadata": {},
   "source": [
    "#### Dealing with missing values"
   ]
  },
  {
   "cell_type": "code",
   "execution_count": 4,
   "id": "23bb56b8",
   "metadata": {},
   "outputs": [
    {
     "data": {
      "text/plain": [
       "<AxesSubplot:>"
      ]
     },
     "execution_count": 4,
     "metadata": {},
     "output_type": "execute_result"
    },
    {
     "data": {
      "image/png": "[encoded data removed]",
      "text/plain": [
       "<Figure size 432x288 with 2 Axes>"
      ]
     },
     "metadata": {
      "needs_background": "light"
     },
     "output_type": "display_data"
    }
   ],
   "source": [
    "sns.heatmap(df_train.isnull())"
   ]
  },
  {
   "cell_type": "code",
   "execution_count": 5,
   "id": "7de67ece",
   "metadata": {},
   "outputs": [
    {
     "data": {
      "text/plain": [
       "Index(['PassengerId', 'HomePlanet', 'CryoSleep', 'Cabin', 'Destination', 'Age',\n",
       "       'VIP', 'RoomService', 'FoodCourt', 'ShoppingMall', 'Spa', 'VRDeck',\n",
       "       'Name', 'Transported'],\n",
       "      dtype='object')"
      ]
     },
     "execution_count": 5,
     "metadata": {},
     "output_type": "execute_result"
    }
   ],
   "source": [
    "df_train.columns"
   ]
  },
  {
   "cell_type": "code",
   "execution_count": 6,
   "id": "e4967f13",
   "metadata": {},
   "outputs": [
    {
     "data": {
      "text/plain": [
       "Earth     4602\n",
       "Europa    2131\n",
       "Mars      1759\n",
       "Name: HomePlanet, dtype: int64"
      ]
     },
     "execution_count": 6,
     "metadata": {},
     "output_type": "execute_result"
    }
   ],
   "source": [
    "df_train['HomePlanet'].value_counts()"
   ]
  },
  {
   "cell_type": "code",
   "execution_count": 7,
   "id": "b04153ad",
   "metadata": {},
   "outputs": [
    {
     "data": {
      "text/plain": [
       "False    8492\n",
       "True      201\n",
       "Name: HomePlanet, dtype: int64"
      ]
     },
     "execution_count": 7,
     "metadata": {},
     "output_type": "execute_result"
    }
   ],
   "source": [
    "df_train['HomePlanet'].isnull().value_counts()"
   ]
  },
  {
   "cell_type": "code",
   "execution_count": 8,
   "id": "d59a632f",
   "metadata": {},
   "outputs": [],
   "source": [
    "homeplanet_col = list(df_train[df_train['HomePlanet'].isnull()==True].index)"
   ]
  },
  {
   "cell_type": "code",
   "execution_count": 9,
   "id": "ed46da25",
   "metadata": {},
   "outputs": [],
   "source": [
    "for i in homeplanet_col:\n",
    "    value = list(df_train.iloc[i])\n",
    "    value[1] = 'Earth'\n",
    "    df_train.iloc[i] = value"
   ]
  },
  {
   "cell_type": "code",
   "execution_count": 10,
   "id": "bd429b74",
   "metadata": {},
   "outputs": [
    {
     "data": {
      "text/plain": [
       "<AxesSubplot:>"
      ]
     },
     "execution_count": 10,
     "metadata": {},
     "output_type": "execute_result"
    },
    {
     "data": {
      "image/png": "[encoded data removed]",
      "text/plain": [
       "<Figure size 432x288 with 2 Axes>"
      ]
     },
     "metadata": {
      "needs_background": "light"
     },
     "output_type": "display_data"
    }
   ],
   "source": [
    "sns.heatmap(df_train.isnull())"
   ]
  },
  {
   "cell_type": "code",
   "execution_count": 11,
   "id": "9adce4ea",
   "metadata": {},
   "outputs": [],
   "source": [
    "homeplanet_col_test = list(df_test[df_test['HomePlanet'].isnull()==True].index)"
   ]
  },
  {
   "cell_type": "code",
   "execution_count": 12,
   "id": "009d5a9a",
   "metadata": {},
   "outputs": [],
   "source": [
    "for i in homeplanet_col_test:\n",
    "    value = list(df_test.iloc[i])\n",
    "    value[1] = 'Earth'\n",
    "    df_test.iloc[i] = value"
   ]
  },
  {
   "cell_type": "code",
   "execution_count": 13,
   "id": "8084db64",
   "metadata": {},
   "outputs": [
    {
     "data": {
      "text/plain": [
       "<AxesSubplot:>"
      ]
     },
     "execution_count": 13,
     "metadata": {},
     "output_type": "execute_result"
    },
    {
     "data": {
      "image/png": "[encoded data removed]",
      "text/plain": [
       "<Figure size 432x288 with 2 Axes>"
      ]
     },
     "metadata": {
      "needs_background": "light"
     },
     "output_type": "display_data"
    }
   ],
   "source": [
    "sns.heatmap(df_test.isnull())"
   ]
  },
  {
   "cell_type": "code",
   "execution_count": 14,
   "id": "c0c59df6",
   "metadata": {},
   "outputs": [
    {
     "data": {
      "text/plain": [
       "False    5439\n",
       "True     3037\n",
       "Name: CryoSleep, dtype: int64"
      ]
     },
     "execution_count": 14,
     "metadata": {},
     "output_type": "execute_result"
    }
   ],
   "source": [
    "df_train['CryoSleep'].value_counts()"
   ]
  },
  {
   "cell_type": "code",
   "execution_count": 15,
   "id": "ebd00576",
   "metadata": {},
   "outputs": [
    {
     "data": {
      "text/plain": [
       "<AxesSubplot:xlabel='HomePlanet', ylabel='Count'>"
      ]
     },
     "execution_count": 15,
     "metadata": {},
     "output_type": "execute_result"
    },
    {
     "data": {
      "image/png": "[encoded data removed]",
      "text/plain": [
       "<Figure size 432x288 with 1 Axes>"
      ]
     },
     "metadata": {
      "needs_background": "light"
     },
     "output_type": "display_data"
    }
   ],
   "source": [
    "sns.histplot(x='HomePlanet',data=df_train,hue='CryoSleep')"
   ]
  },
  {
   "cell_type": "code",
   "execution_count": 16,
   "id": "3aa2aaba",
   "metadata": {},
   "outputs": [],
   "source": [
    "col_earth = list(df_train[(df_train['HomePlanet']=='Earth')&(df_train['CryoSleep'].isnull()==True)].index)"
   ]
  },
  {
   "cell_type": "code",
   "execution_count": 17,
   "id": "52fe50d1",
   "metadata": {},
   "outputs": [],
   "source": [
    "for i in col_earth:\n",
    "    value = list(df_train.iloc[i])\n",
    "    value[2] = 'False'\n",
    "    df_train.iloc[i] = value"
   ]
  },
  {
   "cell_type": "code",
   "execution_count": 18,
   "id": "8d9a9fe9",
   "metadata": {},
   "outputs": [],
   "source": [
    "col_europa = list(df_train[(df_train['HomePlanet']=='Europa')&(df_train['CryoSleep'].isnull()==True)].index)"
   ]
  },
  {
   "cell_type": "code",
   "execution_count": 19,
   "id": "fa05666e",
   "metadata": {},
   "outputs": [],
   "source": [
    "for i in col_europa:\n",
    "    value = list(df_train.iloc[i])\n",
    "    value[2] = 'True'\n",
    "    df_train.iloc[i] = value"
   ]
  },
  {
   "cell_type": "code",
   "execution_count": 20,
   "id": "930ce3ca",
   "metadata": {},
   "outputs": [],
   "source": [
    "col_mars = list(df_train[(df_train['HomePlanet']=='Mars')&(df_train['CryoSleep'].isnull()==True)].index)"
   ]
  },
  {
   "cell_type": "code",
   "execution_count": 21,
   "id": "5274807d",
   "metadata": {},
   "outputs": [],
   "source": [
    "for i in col_mars:\n",
    "    value = list(df_train.iloc[i])\n",
    "    value[2] = 'True'\n",
    "    df_train.iloc[i] = value"
   ]
  },
  {
   "cell_type": "code",
   "execution_count": 22,
   "id": "91619f76",
   "metadata": {},
   "outputs": [
    {
     "data": {
      "text/plain": [
       "<AxesSubplot:>"
      ]
     },
     "execution_count": 22,
     "metadata": {},
     "output_type": "execute_result"
    },
    {
     "data": {
      "image/png": "[encoded data removed]",
      "text/plain": [
       "<Figure size 432x288 with 2 Axes>"
      ]
     },
     "metadata": {
      "needs_background": "light"
     },
     "output_type": "display_data"
    }
   ],
   "source": [
    "sns.heatmap(df_train.isnull())"
   ]
  },
  {
   "cell_type": "code",
   "execution_count": 23,
   "id": "946395b6",
   "metadata": {},
   "outputs": [],
   "source": [
    "col_mars = list(df_test[(df_test['HomePlanet']=='Mars')&(df_test['CryoSleep'].isnull()==True)].index)\n",
    "col_earth = list(df_test[(df_test['HomePlanet']=='Earth')&(df_test['CryoSleep'].isnull()==True)].index)\n",
    "col_europa = list(df_test[(df_test['HomePlanet']=='Europa')&(df_test['CryoSleep'].isnull()==True)].index)"
   ]
  },
  {
   "cell_type": "code",
   "execution_count": 24,
   "id": "1ca03cff",
   "metadata": {},
   "outputs": [],
   "source": [
    "for i in col_mars:\n",
    "    value = list(df_test.iloc[i])\n",
    "    value[2] = 'True'\n",
    "    df_test.iloc[i] = value\n",
    "for i in col_europa:\n",
    "    value = list(df_test.iloc[i])\n",
    "    value[2] = 'True'\n",
    "    df_test.iloc[i] = value\n",
    "for i in col_earth:\n",
    "    value = list(df_test.iloc[i])\n",
    "    value[2] = 'False'\n",
    "    df_test.iloc[i] = value"
   ]
  },
  {
   "cell_type": "code",
   "execution_count": 25,
   "id": "31a97212",
   "metadata": {},
   "outputs": [
    {
     "data": {
      "text/plain": [
       "<AxesSubplot:>"
      ]
     },
     "execution_count": 25,
     "metadata": {},
     "output_type": "execute_result"
    },
    {
     "data": {
      "image/png": "[encoded data removed]",
      "text/plain": [
       "<Figure size 432x288 with 2 Axes>"
      ]
     },
     "metadata": {
      "needs_background": "light"
     },
     "output_type": "display_data"
    }
   ],
   "source": [
    "sns.heatmap(df_test.isnull())"
   ]
  },
  {
   "cell_type": "code",
   "execution_count": 26,
   "id": "b002e69f",
   "metadata": {},
   "outputs": [],
   "source": [
    "df_train['group1'] = df_train['Cabin'].apply(lambda x:str(x)[:1])\n",
    "df_train['group2'] = df_train['Cabin'].apply(lambda x:str(x)[-1:])"
   ]
  },
  {
   "cell_type": "code",
   "execution_count": 27,
   "id": "385e75c3",
   "metadata": {},
   "outputs": [],
   "source": [
    "col_group1 = list(df_train[(df_train['group1']=='n')].index)"
   ]
  },
  {
   "cell_type": "code",
   "execution_count": 28,
   "id": "0cb1149a",
   "metadata": {},
   "outputs": [],
   "source": [
    "import random\n",
    "random.shuffle(col_group1)"
   ]
  },
  {
   "cell_type": "code",
   "execution_count": 29,
   "id": "2056359c",
   "metadata": {},
   "outputs": [],
   "source": [
    "for i in col_group1[:100]:\n",
    "    value = list(df_train.iloc[i])\n",
    "    value[-1] = 'F'\n",
    "    value[-2] = 'P'\n",
    "    df_train.iloc[i] = value\n",
    "for i in col_group1[100:]:\n",
    "    value = list(df_train.iloc[i])\n",
    "    value[-1] = 'G'\n",
    "    value[-2] = 'S'\n",
    "    df_train.iloc[i] = value"
   ]
  },
  {
   "cell_type": "code",
   "execution_count": 30,
   "id": "49d33a5b",
   "metadata": {},
   "outputs": [],
   "source": [
    "df_test['group1'] = df_test['Cabin'].apply(lambda x:str(x)[:1])\n",
    "df_test['group2'] = df_test['Cabin'].apply(lambda x:str(x)[-1:])"
   ]
  },
  {
   "cell_type": "code",
   "execution_count": 31,
   "id": "9fd8806e",
   "metadata": {},
   "outputs": [],
   "source": [
    "col_group1 = list(df_test[(df_test['group1']=='n')].index)"
   ]
  },
  {
   "cell_type": "code",
   "execution_count": 32,
   "id": "4ee7d8d8",
   "metadata": {},
   "outputs": [],
   "source": [
    "import random\n",
    "random.shuffle(col_group1)"
   ]
  },
  {
   "cell_type": "code",
   "execution_count": 33,
   "id": "ba912284",
   "metadata": {},
   "outputs": [],
   "source": [
    "for i in col_group1[:50]:\n",
    "    value = list(df_test.iloc[i])\n",
    "    value[-1] = 'F'\n",
    "    value[-2] = 'P'\n",
    "    df_test.iloc[i] = value\n",
    "for i in col_group1[50:]:\n",
    "    value = list(df_test.iloc[i])\n",
    "    value[-1] = 'G'\n",
    "    value[-2] = 'S'\n",
    "    df_test.iloc[i] = value"
   ]
  },
  {
   "cell_type": "code",
   "execution_count": 34,
   "id": "2e6a621b",
   "metadata": {},
   "outputs": [
    {
     "data": {
      "text/plain": [
       "<AxesSubplot:>"
      ]
     },
     "execution_count": 34,
     "metadata": {},
     "output_type": "execute_result"
    },
    {
     "data": {
      "image/png": "[encoded data removed]",
      "text/plain": [
       "<Figure size 432x288 with 2 Axes>"
      ]
     },
     "metadata": {
      "needs_background": "light"
     },
     "output_type": "display_data"
    }
   ],
   "source": [
    "sns.heatmap(df_test.isnull())"
   ]
  },
  {
   "cell_type": "code",
   "execution_count": 35,
   "id": "ec790f40",
   "metadata": {},
   "outputs": [],
   "source": [
    "df_train = df_train.drop('Cabin',axis=1)\n",
    "df_test = df_test.drop('Cabin',axis=1)"
   ]
  },
  {
   "cell_type": "code",
   "execution_count": 36,
   "id": "700eb5ae",
   "metadata": {},
   "outputs": [
    {
     "data": {
      "text/plain": [
       "TRAPPIST-1e      5915\n",
       "55 Cancri e      1800\n",
       "PSO J318.5-22     796\n",
       "Name: Destination, dtype: int64"
      ]
     },
     "execution_count": 36,
     "metadata": {},
     "output_type": "execute_result"
    }
   ],
   "source": [
    "df_train['Destination'].value_counts()"
   ]
  },
  {
   "cell_type": "code",
   "execution_count": 37,
   "id": "71e3656d",
   "metadata": {},
   "outputs": [],
   "source": [
    "col_dest = list(df_train[(df_train['Destination'].isnull()==True)].index)"
   ]
  },
  {
   "cell_type": "code",
   "execution_count": 38,
   "id": "59064c0f",
   "metadata": {},
   "outputs": [],
   "source": [
    "random.shuffle(col_dest)"
   ]
  },
  {
   "cell_type": "code",
   "execution_count": 39,
   "id": "64aca2da",
   "metadata": {},
   "outputs": [],
   "source": [
    "for i in col_dest[:23]:\n",
    "    value = list(df_train.iloc[i])\n",
    "    value[3] = 'PSO J318.5-22'\n",
    "    df_train.iloc[i] = value\n",
    "for i in col_dest[23:61]:\n",
    "    value = list(df_train.iloc[i])\n",
    "    value[3] = '55 Cancri e'\n",
    "    df_train.iloc[i] = value\n",
    "for i in col_dest[61:]:\n",
    "    value = list(df_train.iloc[i])\n",
    "    value[3] = 'TRAPPIST-1e'\n",
    "    df_train.iloc[i] = value"
   ]
  },
  {
   "cell_type": "code",
   "execution_count": 40,
   "id": "138aed7e",
   "metadata": {},
   "outputs": [],
   "source": [
    "col_dest = list(df_test[(df_test['Destination'].isnull()==True)].index)\n",
    "random.shuffle(col_dest)"
   ]
  },
  {
   "cell_type": "code",
   "execution_count": 41,
   "id": "620717a8",
   "metadata": {},
   "outputs": [],
   "source": [
    "for i in col_dest[:9]:\n",
    "    value = list(df_test.iloc[i])\n",
    "    value[3] = 'PSO J318.5-22'\n",
    "    df_test.iloc[i] = value\n",
    "for i in col_dest[9:19]:\n",
    "    value = list(df_test.iloc[i])\n",
    "    value[3] = '55 Cancri e'\n",
    "    df_test.iloc[i] = value\n",
    "for i in col_dest[19:]:\n",
    "    value = list(df_test.iloc[i])\n",
    "    value[3] = 'TRAPPIST-1e'\n",
    "    df_test.iloc[i] = value"
   ]
  },
  {
   "cell_type": "code",
   "execution_count": 42,
   "id": "8abbbf49",
   "metadata": {},
   "outputs": [
    {
     "data": {
      "text/plain": [
       "0       39.0\n",
       "1       24.0\n",
       "2       58.0\n",
       "3       33.0\n",
       "4       16.0\n",
       "        ... \n",
       "8688    41.0\n",
       "8689    18.0\n",
       "8690    26.0\n",
       "8691    32.0\n",
       "8692    44.0\n",
       "Name: Age, Length: 8693, dtype: float64"
      ]
     },
     "execution_count": 42,
     "metadata": {},
     "output_type": "execute_result"
    }
   ],
   "source": [
    "df_train['Age']"
   ]
  },
  {
   "cell_type": "code",
   "execution_count": 43,
   "id": "ea2f2acc",
   "metadata": {},
   "outputs": [
    {
     "data": {
      "text/plain": [
       "<AxesSubplot:xlabel='Age', ylabel='Count'>"
      ]
     },
     "execution_count": 43,
     "metadata": {},
     "output_type": "execute_result"
    },
    {
     "data": {
      "image/png": "[encoded data removed]",
      "text/plain": [
       "<Figure size 432x288 with 1 Axes>"
      ]
     },
     "metadata": {
      "needs_background": "light"
     },
     "output_type": "display_data"
    }
   ],
   "source": [
    "sns.histplot(x='Age',data=df_train.dropna())"
   ]
  },
  {
   "cell_type": "code",
   "execution_count": 44,
   "id": "da2dc4ee",
   "metadata": {},
   "outputs": [],
   "source": [
    "col_age = list(df_train[(df_train['Age'].isnull()==True)].index)"
   ]
  },
  {
   "cell_type": "code",
   "execution_count": 45,
   "id": "3dc0dc6f",
   "metadata": {},
   "outputs": [],
   "source": [
    "for i in col_age:\n",
    "    value = list(df_train.iloc[i])\n",
    "    value[4] = 27\n",
    "    df_train.iloc[i] = value"
   ]
  },
  {
   "cell_type": "code",
   "execution_count": 46,
   "id": "54a7549f",
   "metadata": {},
   "outputs": [],
   "source": [
    "col_age = list(df_test[(df_test['Age'].isnull()==True)].index)"
   ]
  },
  {
   "cell_type": "code",
   "execution_count": 47,
   "id": "ee59e768",
   "metadata": {},
   "outputs": [],
   "source": [
    "for i in col_age:\n",
    "    value = list(df_test.iloc[i])\n",
    "    value[4] = 27\n",
    "    df_test.iloc[i] = value"
   ]
  },
  {
   "cell_type": "code",
   "execution_count": 48,
   "id": "d9137366",
   "metadata": {},
   "outputs": [],
   "source": [
    "col_VIP = list(df_train[(df_train['VIP'].isnull()==True)].index)"
   ]
  },
  {
   "cell_type": "code",
   "execution_count": 49,
   "id": "c876e29a",
   "metadata": {},
   "outputs": [],
   "source": [
    "for i in col_VIP:\n",
    "    value = list(df_train.iloc[i])\n",
    "    value[5] = False\n",
    "    df_train.iloc[i] = value"
   ]
  },
  {
   "cell_type": "code",
   "execution_count": 50,
   "id": "2de83975",
   "metadata": {},
   "outputs": [],
   "source": [
    "col_VIP = list(df_test[(df_test['VIP'].isnull()==True)].index)"
   ]
  },
  {
   "cell_type": "code",
   "execution_count": 51,
   "id": "b29746f6",
   "metadata": {},
   "outputs": [],
   "source": [
    "for i in col_VIP:\n",
    "    value = list(df_test.iloc[i])\n",
    "    value[5] = False\n",
    "    df_test.iloc[i] = value"
   ]
  },
  {
   "cell_type": "code",
   "execution_count": 52,
   "id": "d92d2e97",
   "metadata": {},
   "outputs": [],
   "source": [
    "##Drop the rows with missing roomservice data"
   ]
  },
  {
   "cell_type": "code",
   "execution_count": 53,
   "id": "fd28de5c",
   "metadata": {},
   "outputs": [],
   "source": [
    "col_food = list(df_train[(df_train['FoodCourt'].isnull()==True)].index)"
   ]
  },
  {
   "cell_type": "code",
   "execution_count": 54,
   "id": "31b9d3e5",
   "metadata": {},
   "outputs": [],
   "source": [
    "for i in col_food:\n",
    "    value = list(df_train.iloc[i])\n",
    "    value[7] = 0\n",
    "    df_train.iloc[i] = value"
   ]
  },
  {
   "cell_type": "code",
   "execution_count": 55,
   "id": "565bf4de",
   "metadata": {},
   "outputs": [],
   "source": [
    "col_food = list(df_test[(df_test['FoodCourt'].isnull()==True)].index)"
   ]
  },
  {
   "cell_type": "code",
   "execution_count": 56,
   "id": "60b007a0",
   "metadata": {},
   "outputs": [],
   "source": [
    "for i in col_food:\n",
    "    value = list(df_test.iloc[i])\n",
    "    value[7] = 0\n",
    "    df_test.iloc[i] = value"
   ]
  },
  {
   "cell_type": "code",
   "execution_count": 57,
   "id": "8d5ab5f0",
   "metadata": {},
   "outputs": [],
   "source": [
    "col_mall = list(df_train[(df_train['ShoppingMall'].isnull()==True)].index)"
   ]
  },
  {
   "cell_type": "code",
   "execution_count": 58,
   "id": "6d0dde93",
   "metadata": {},
   "outputs": [],
   "source": [
    "for i in col_mall:\n",
    "    value = list(df_train.iloc[i])\n",
    "    value[8] = 0\n",
    "    df_train.iloc[i] = value"
   ]
  },
  {
   "cell_type": "code",
   "execution_count": 59,
   "id": "b168dcb7",
   "metadata": {},
   "outputs": [],
   "source": [
    "col_mall = list(df_test[(df_test['ShoppingMall'].isnull()==True)].index)"
   ]
  },
  {
   "cell_type": "code",
   "execution_count": 60,
   "id": "c183d355",
   "metadata": {},
   "outputs": [],
   "source": [
    "for i in col_mall:\n",
    "    value = list(df_test.iloc[i])\n",
    "    value[8] = 0\n",
    "    df_test.iloc[i] = value"
   ]
  },
  {
   "cell_type": "code",
   "execution_count": 61,
   "id": "c4d13d92",
   "metadata": {},
   "outputs": [],
   "source": [
    "col_spa = list(df_train[(df_train['Spa'].isnull()==True)].index)\n",
    "for i in col_spa:\n",
    "    value = list(df_train.iloc[i])\n",
    "    value[9] = 0\n",
    "    df_train.iloc[i] = value\n",
    "    \n",
    "col_spa = list(df_test[(df_test['Spa'].isnull()==True)].index)\n",
    "for i in col_spa:\n",
    "    value = list(df_test.iloc[i])\n",
    "    value[9] = 0\n",
    "    df_test.iloc[i] = value"
   ]
  },
  {
   "cell_type": "code",
   "execution_count": 62,
   "id": "7478e564",
   "metadata": {},
   "outputs": [],
   "source": [
    "col_deck = list(df_train[(df_train['VRDeck'].isnull()==True)].index)\n",
    "for i in col_deck:\n",
    "    value = list(df_train.iloc[i])\n",
    "    value[10] = 0\n",
    "    df_train.iloc[i] = value\n",
    "    \n",
    "col_deck = list(df_test[(df_test['VRDeck'].isnull()==True)].index)\n",
    "for i in col_deck:\n",
    "    value = list(df_test.iloc[i])\n",
    "    value[10] = 0\n",
    "    df_test.iloc[i] = value"
   ]
  },
  {
   "cell_type": "code",
   "execution_count": 63,
   "id": "66f33007",
   "metadata": {},
   "outputs": [],
   "source": [
    "df_train = df_train.drop('Name',axis=1)\n",
    "df_test = df_test.drop('Name',axis=1)"
   ]
  },
  {
   "cell_type": "code",
   "execution_count": 64,
   "id": "c05d000b",
   "metadata": {},
   "outputs": [],
   "source": [
    "col_deck = list(df_train[(df_train['RoomService'].isnull()==True)].index)\n",
    "for i in col_deck:\n",
    "    value = list(df_train.iloc[i])\n",
    "    value[6] = 0\n",
    "    df_train.iloc[i] = value"
   ]
  },
  {
   "cell_type": "code",
   "execution_count": 65,
   "id": "cf5393f4",
   "metadata": {},
   "outputs": [],
   "source": [
    "col_deck = list(df_test[(df_test['RoomService'].isnull()==True)].index)\n",
    "for i in col_deck:\n",
    "    value = list(df_test.iloc[i])\n",
    "    value[6] = 0\n",
    "    df_test.iloc[i] = value"
   ]
  },
  {
   "cell_type": "code",
   "execution_count": 66,
   "id": "87f32608",
   "metadata": {},
   "outputs": [
    {
     "data": {
      "text/plain": [
       "<AxesSubplot:>"
      ]
     },
     "execution_count": 66,
     "metadata": {},
     "output_type": "execute_result"
    },
    {
     "data": {
      "image/png": "[encoded data removed]",
      "text/plain": [
       "<Figure size 432x288 with 2 Axes>"
      ]
     },
     "metadata": {
      "needs_background": "light"
     },
     "output_type": "display_data"
    }
   ],
   "source": [
    "sns.heatmap(df_train.isnull())"
   ]
  },
  {
   "cell_type": "code",
   "execution_count": 67,
   "id": "496c37cb",
   "metadata": {},
   "outputs": [],
   "source": [
    "df_train.to_csv('df_train_missed_value.csv')\n",
    "df_test.to_csv('df_test_missed_value.csv')"
   ]
  },
  {
   "cell_type": "markdown",
   "id": "8676a0f7",
   "metadata": {},
   "source": [
    "### Data Preprocessing"
   ]
  },
  {
   "cell_type": "code",
   "execution_count": 68,
   "id": "3b1d700b",
   "metadata": {},
   "outputs": [],
   "source": [
    "df_train = pd.read_csv('df_train_missed_value.csv')\n",
    "df_test = pd.read_csv('df_test_missed_value.csv')"
   ]
  },
  {
   "cell_type": "code",
   "execution_count": 69,
   "id": "00e09d00",
   "metadata": {},
   "outputs": [],
   "source": [
    "df_train = df_train.drop(['Unnamed: 0','PassengerId'],axis=1)\n",
    "df_test = df_test.drop(['Unnamed: 0','PassengerId'],axis=1)"
   ]
  },
  {
   "cell_type": "code",
   "execution_count": 70,
   "id": "871a2401",
   "metadata": {},
   "outputs": [
    {
     "data": {
      "text/html": [
       "<div>\n",
       "<style scoped>\n",
       "    .dataframe tbody tr th:only-of-type {\n",
       "        vertical-align: middle;\n",
       "    }\n",
       "\n",
       "    .dataframe tbody tr th {\n",
       "        vertical-align: top;\n",
       "    }\n",
       "\n",
       "    .dataframe thead th {\n",
       "        text-align: right;\n",
       "    }\n",
       "</style>\n",
       "<table border=\"1\" class=\"dataframe\">\n",
       "  <thead>\n",
       "    <tr style=\"text-align: right;\">\n",
       "      <th></th>\n",
       "      <th>HomePlanet</th>\n",
       "      <th>CryoSleep</th>\n",
       "      <th>Destination</th>\n",
       "      <th>Age</th>\n",
       "      <th>VIP</th>\n",
       "      <th>RoomService</th>\n",
       "      <th>FoodCourt</th>\n",
       "      <th>ShoppingMall</th>\n",
       "      <th>Spa</th>\n",
       "      <th>VRDeck</th>\n",
       "      <th>Transported</th>\n",
       "      <th>group1</th>\n",
       "      <th>group2</th>\n",
       "    </tr>\n",
       "  </thead>\n",
       "  <tbody>\n",
       "    <tr>\n",
       "      <th>0</th>\n",
       "      <td>Europa</td>\n",
       "      <td>False</td>\n",
       "      <td>TRAPPIST-1e</td>\n",
       "      <td>39.0</td>\n",
       "      <td>False</td>\n",
       "      <td>0.0</td>\n",
       "      <td>0.0</td>\n",
       "      <td>0.0</td>\n",
       "      <td>0.0</td>\n",
       "      <td>0.0</td>\n",
       "      <td>False</td>\n",
       "      <td>B</td>\n",
       "      <td>P</td>\n",
       "    </tr>\n",
       "    <tr>\n",
       "      <th>1</th>\n",
       "      <td>Earth</td>\n",
       "      <td>False</td>\n",
       "      <td>TRAPPIST-1e</td>\n",
       "      <td>24.0</td>\n",
       "      <td>False</td>\n",
       "      <td>109.0</td>\n",
       "      <td>9.0</td>\n",
       "      <td>25.0</td>\n",
       "      <td>549.0</td>\n",
       "      <td>44.0</td>\n",
       "      <td>True</td>\n",
       "      <td>F</td>\n",
       "      <td>S</td>\n",
       "    </tr>\n",
       "    <tr>\n",
       "      <th>2</th>\n",
       "      <td>Europa</td>\n",
       "      <td>False</td>\n",
       "      <td>TRAPPIST-1e</td>\n",
       "      <td>58.0</td>\n",
       "      <td>True</td>\n",
       "      <td>43.0</td>\n",
       "      <td>3576.0</td>\n",
       "      <td>0.0</td>\n",
       "      <td>6715.0</td>\n",
       "      <td>49.0</td>\n",
       "      <td>False</td>\n",
       "      <td>A</td>\n",
       "      <td>S</td>\n",
       "    </tr>\n",
       "    <tr>\n",
       "      <th>3</th>\n",
       "      <td>Europa</td>\n",
       "      <td>False</td>\n",
       "      <td>TRAPPIST-1e</td>\n",
       "      <td>33.0</td>\n",
       "      <td>False</td>\n",
       "      <td>0.0</td>\n",
       "      <td>1283.0</td>\n",
       "      <td>371.0</td>\n",
       "      <td>3329.0</td>\n",
       "      <td>193.0</td>\n",
       "      <td>False</td>\n",
       "      <td>A</td>\n",
       "      <td>S</td>\n",
       "    </tr>\n",
       "    <tr>\n",
       "      <th>4</th>\n",
       "      <td>Earth</td>\n",
       "      <td>False</td>\n",
       "      <td>TRAPPIST-1e</td>\n",
       "      <td>16.0</td>\n",
       "      <td>False</td>\n",
       "      <td>303.0</td>\n",
       "      <td>70.0</td>\n",
       "      <td>151.0</td>\n",
       "      <td>565.0</td>\n",
       "      <td>2.0</td>\n",
       "      <td>True</td>\n",
       "      <td>F</td>\n",
       "      <td>S</td>\n",
       "    </tr>\n",
       "  </tbody>\n",
       "</table>\n",
       "</div>"
      ],
      "text/plain": [
       "  HomePlanet  CryoSleep  Destination   Age    VIP  RoomService  FoodCourt  \\\n",
       "0     Europa      False  TRAPPIST-1e  39.0  False          0.0        0.0   \n",
       "1      Earth      False  TRAPPIST-1e  24.0  False        109.0        9.0   \n",
       "2     Europa      False  TRAPPIST-1e  58.0   True         43.0     3576.0   \n",
       "3     Europa      False  TRAPPIST-1e  33.0  False          0.0     1283.0   \n",
       "4      Earth      False  TRAPPIST-1e  16.0  False        303.0       70.0   \n",
       "\n",
       "   ShoppingMall     Spa  VRDeck  Transported group1 group2  \n",
       "0           0.0     0.0     0.0        False      B      P  \n",
       "1          25.0   549.0    44.0         True      F      S  \n",
       "2           0.0  6715.0    49.0        False      A      S  \n",
       "3         371.0  3329.0   193.0        False      A      S  \n",
       "4         151.0   565.0     2.0         True      F      S  "
      ]
     },
     "execution_count": 70,
     "metadata": {},
     "output_type": "execute_result"
    }
   ],
   "source": [
    "df_train.head()"
   ]
  },
  {
   "cell_type": "code",
   "execution_count": 71,
   "id": "5863282c",
   "metadata": {},
   "outputs": [],
   "source": [
    "homeplanet = pd.get_dummies(df_train['HomePlanet'],drop_first=True)\n",
    "Cryosleep = pd.get_dummies(df_train['CryoSleep'],drop_first=True)\n",
    "destination = pd.get_dummies(df_train['Destination'],drop_first=True)\n",
    "Vip = pd.get_dummies(df_train['VIP'],drop_first=True)\n",
    "group1 = pd.get_dummies(df_train['group1'],drop_first=True)\n",
    "group2 = pd.get_dummies(df_train['group2'],drop_first=True)"
   ]
  },
  {
   "cell_type": "code",
   "execution_count": 72,
   "id": "c95f3e93",
   "metadata": {},
   "outputs": [],
   "source": [
    "df_train = pd.concat([df_train,homeplanet,Cryosleep,destination,Vip,group1,group2],axis=1)"
   ]
  },
  {
   "cell_type": "code",
   "execution_count": 73,
   "id": "62661e5b",
   "metadata": {},
   "outputs": [
    {
     "data": {
      "text/html": [
       "<div>\n",
       "<style scoped>\n",
       "    .dataframe tbody tr th:only-of-type {\n",
       "        vertical-align: middle;\n",
       "    }\n",
       "\n",
       "    .dataframe tbody tr th {\n",
       "        vertical-align: top;\n",
       "    }\n",
       "\n",
       "    .dataframe thead th {\n",
       "        text-align: right;\n",
       "    }\n",
       "</style>\n",
       "<table border=\"1\" class=\"dataframe\">\n",
       "  <thead>\n",
       "    <tr style=\"text-align: right;\">\n",
       "      <th></th>\n",
       "      <th>HomePlanet</th>\n",
       "      <th>CryoSleep</th>\n",
       "      <th>Destination</th>\n",
       "      <th>Age</th>\n",
       "      <th>VIP</th>\n",
       "      <th>RoomService</th>\n",
       "      <th>FoodCourt</th>\n",
       "      <th>ShoppingMall</th>\n",
       "      <th>Spa</th>\n",
       "      <th>VRDeck</th>\n",
       "      <th>...</th>\n",
       "      <th>D</th>\n",
       "      <th>E</th>\n",
       "      <th>F</th>\n",
       "      <th>G</th>\n",
       "      <th>P</th>\n",
       "      <th>S</th>\n",
       "      <th>T</th>\n",
       "      <th>G</th>\n",
       "      <th>P</th>\n",
       "      <th>S</th>\n",
       "    </tr>\n",
       "  </thead>\n",
       "  <tbody>\n",
       "    <tr>\n",
       "      <th>0</th>\n",
       "      <td>Europa</td>\n",
       "      <td>False</td>\n",
       "      <td>TRAPPIST-1e</td>\n",
       "      <td>39.0</td>\n",
       "      <td>False</td>\n",
       "      <td>0.0</td>\n",
       "      <td>0.0</td>\n",
       "      <td>0.0</td>\n",
       "      <td>0.0</td>\n",
       "      <td>0.0</td>\n",
       "      <td>...</td>\n",
       "      <td>0</td>\n",
       "      <td>0</td>\n",
       "      <td>0</td>\n",
       "      <td>0</td>\n",
       "      <td>0</td>\n",
       "      <td>0</td>\n",
       "      <td>0</td>\n",
       "      <td>0</td>\n",
       "      <td>1</td>\n",
       "      <td>0</td>\n",
       "    </tr>\n",
       "    <tr>\n",
       "      <th>1</th>\n",
       "      <td>Earth</td>\n",
       "      <td>False</td>\n",
       "      <td>TRAPPIST-1e</td>\n",
       "      <td>24.0</td>\n",
       "      <td>False</td>\n",
       "      <td>109.0</td>\n",
       "      <td>9.0</td>\n",
       "      <td>25.0</td>\n",
       "      <td>549.0</td>\n",
       "      <td>44.0</td>\n",
       "      <td>...</td>\n",
       "      <td>0</td>\n",
       "      <td>0</td>\n",
       "      <td>1</td>\n",
       "      <td>0</td>\n",
       "      <td>0</td>\n",
       "      <td>0</td>\n",
       "      <td>0</td>\n",
       "      <td>0</td>\n",
       "      <td>0</td>\n",
       "      <td>1</td>\n",
       "    </tr>\n",
       "    <tr>\n",
       "      <th>2</th>\n",
       "      <td>Europa</td>\n",
       "      <td>False</td>\n",
       "      <td>TRAPPIST-1e</td>\n",
       "      <td>58.0</td>\n",
       "      <td>True</td>\n",
       "      <td>43.0</td>\n",
       "      <td>3576.0</td>\n",
       "      <td>0.0</td>\n",
       "      <td>6715.0</td>\n",
       "      <td>49.0</td>\n",
       "      <td>...</td>\n",
       "      <td>0</td>\n",
       "      <td>0</td>\n",
       "      <td>0</td>\n",
       "      <td>0</td>\n",
       "      <td>0</td>\n",
       "      <td>0</td>\n",
       "      <td>0</td>\n",
       "      <td>0</td>\n",
       "      <td>0</td>\n",
       "      <td>1</td>\n",
       "    </tr>\n",
       "    <tr>\n",
       "      <th>3</th>\n",
       "      <td>Europa</td>\n",
       "      <td>False</td>\n",
       "      <td>TRAPPIST-1e</td>\n",
       "      <td>33.0</td>\n",
       "      <td>False</td>\n",
       "      <td>0.0</td>\n",
       "      <td>1283.0</td>\n",
       "      <td>371.0</td>\n",
       "      <td>3329.0</td>\n",
       "      <td>193.0</td>\n",
       "      <td>...</td>\n",
       "      <td>0</td>\n",
       "      <td>0</td>\n",
       "      <td>0</td>\n",
       "      <td>0</td>\n",
       "      <td>0</td>\n",
       "      <td>0</td>\n",
       "      <td>0</td>\n",
       "      <td>0</td>\n",
       "      <td>0</td>\n",
       "      <td>1</td>\n",
       "    </tr>\n",
       "    <tr>\n",
       "      <th>4</th>\n",
       "      <td>Earth</td>\n",
       "      <td>False</td>\n",
       "      <td>TRAPPIST-1e</td>\n",
       "      <td>16.0</td>\n",
       "      <td>False</td>\n",
       "      <td>303.0</td>\n",
       "      <td>70.0</td>\n",
       "      <td>151.0</td>\n",
       "      <td>565.0</td>\n",
       "      <td>2.0</td>\n",
       "      <td>...</td>\n",
       "      <td>0</td>\n",
       "      <td>0</td>\n",
       "      <td>1</td>\n",
       "      <td>0</td>\n",
       "      <td>0</td>\n",
       "      <td>0</td>\n",
       "      <td>0</td>\n",
       "      <td>0</td>\n",
       "      <td>0</td>\n",
       "      <td>1</td>\n",
       "    </tr>\n",
       "  </tbody>\n",
       "</table>\n",
       "<p>5 rows × 31 columns</p>\n",
       "</div>"
      ],
      "text/plain": [
       "  HomePlanet  CryoSleep  Destination   Age    VIP  RoomService  FoodCourt  \\\n",
       "0     Europa      False  TRAPPIST-1e  39.0  False          0.0        0.0   \n",
       "1      Earth      False  TRAPPIST-1e  24.0  False        109.0        9.0   \n",
       "2     Europa      False  TRAPPIST-1e  58.0   True         43.0     3576.0   \n",
       "3     Europa      False  TRAPPIST-1e  33.0  False          0.0     1283.0   \n",
       "4      Earth      False  TRAPPIST-1e  16.0  False        303.0       70.0   \n",
       "\n",
       "   ShoppingMall     Spa  VRDeck  ...  D  E  F  G  P  S  T  G  P  S  \n",
       "0           0.0     0.0     0.0  ...  0  0  0  0  0  0  0  0  1  0  \n",
       "1          25.0   549.0    44.0  ...  0  0  1  0  0  0  0  0  0  1  \n",
       "2           0.0  6715.0    49.0  ...  0  0  0  0  0  0  0  0  0  1  \n",
       "3         371.0  3329.0   193.0  ...  0  0  0  0  0  0  0  0  0  1  \n",
       "4         151.0   565.0     2.0  ...  0  0  1  0  0  0  0  0  0  1  \n",
       "\n",
       "[5 rows x 31 columns]"
      ]
     },
     "execution_count": 73,
     "metadata": {},
     "output_type": "execute_result"
    }
   ],
   "source": [
    "df_train.head()"
   ]
  },
  {
   "cell_type": "code",
   "execution_count": 74,
   "id": "10447258",
   "metadata": {},
   "outputs": [],
   "source": [
    "homeplanet = pd.get_dummies(df_test['HomePlanet'],drop_first=True)\n",
    "Cryosleep = pd.get_dummies(df_test['CryoSleep'],drop_first=True)\n",
    "destination = pd.get_dummies(df_test['Destination'],drop_first=True)\n",
    "Vip = pd.get_dummies(df_test['VIP'],drop_first=True)\n",
    "group1 = pd.get_dummies(df_test['group1'],drop_first=True)\n",
    "group2 = pd.get_dummies(df_test['group2'],drop_first=True)"
   ]
  },
  {
   "cell_type": "code",
   "execution_count": 75,
   "id": "71342e43",
   "metadata": {},
   "outputs": [],
   "source": [
    "df_test = pd.concat([df_test,homeplanet,Cryosleep,destination,Vip,group1,group2],axis=1)"
   ]
  },
  {
   "cell_type": "code",
   "execution_count": 76,
   "id": "56723179",
   "metadata": {},
   "outputs": [],
   "source": [
    "df_train = df_train.drop(['HomePlanet','CryoSleep','Destination','VIP','group1','group2'],axis=1)\n",
    "df_test = df_test.drop(['HomePlanet','CryoSleep','Destination','VIP','group1','group2'],axis=1)"
   ]
  },
  {
   "cell_type": "code",
   "execution_count": 77,
   "id": "b0eda66d",
   "metadata": {},
   "outputs": [],
   "source": [
    "train_norm = df_train[['Age','RoomService','FoodCourt','ShoppingMall','Spa','VRDeck']]\n",
    "test_norm = df_test[['Age','RoomService','FoodCourt','ShoppingMall','Spa','VRDeck']]"
   ]
  },
  {
   "cell_type": "code",
   "execution_count": 78,
   "id": "c5ef1bd2",
   "metadata": {},
   "outputs": [],
   "source": [
    "from sklearn.preprocessing import MinMaxScaler"
   ]
  },
  {
   "cell_type": "code",
   "execution_count": 79,
   "id": "abc48505",
   "metadata": {},
   "outputs": [],
   "source": [
    "scaler = MinMaxScaler()\n",
    "scaler.fit(train_norm)\n",
    "train_norm = scaler.transform(train_norm)\n",
    "test_norm = scaler.transform(test_norm)"
   ]
  },
  {
   "cell_type": "code",
   "execution_count": 80,
   "id": "f4c0eb88",
   "metadata": {},
   "outputs": [],
   "source": [
    "train_norm = pd.DataFrame(train_norm)\n",
    "test_norm = pd.DataFrame(test_norm)"
   ]
  },
  {
   "cell_type": "code",
   "execution_count": 81,
   "id": "ae2806ef",
   "metadata": {},
   "outputs": [],
   "source": [
    "train_norm.columns = ['Age','RoomService','FoodCourt','ShoppingMall','Spa','VRDeck']\n",
    "test_norm.columns = ['Age','RoomService','FoodCourt','ShoppingMall','Spa','VRDeck']"
   ]
  },
  {
   "cell_type": "code",
   "execution_count": 82,
   "id": "a363f908",
   "metadata": {},
   "outputs": [],
   "source": [
    "df_train = df_train.drop(['Age','RoomService','FoodCourt','ShoppingMall','Spa','VRDeck'],axis=1)\n",
    "df_train = pd.concat([train_norm,df_train],axis=1)"
   ]
  },
  {
   "cell_type": "code",
   "execution_count": 83,
   "id": "91086b26",
   "metadata": {},
   "outputs": [],
   "source": [
    "df_test = df_test.drop(['Age','RoomService','FoodCourt','ShoppingMall','Spa','VRDeck'],axis=1)\n",
    "df_test = pd.concat([test_norm,df_test],axis=1)"
   ]
  },
  {
   "cell_type": "code",
   "execution_count": 84,
   "id": "da4e808b",
   "metadata": {},
   "outputs": [
    {
     "data": {
      "text/html": [
       "<div>\n",
       "<style scoped>\n",
       "    .dataframe tbody tr th:only-of-type {\n",
       "        vertical-align: middle;\n",
       "    }\n",
       "\n",
       "    .dataframe tbody tr th {\n",
       "        vertical-align: top;\n",
       "    }\n",
       "\n",
       "    .dataframe thead th {\n",
       "        text-align: right;\n",
       "    }\n",
       "</style>\n",
       "<table border=\"1\" class=\"dataframe\">\n",
       "  <thead>\n",
       "    <tr style=\"text-align: right;\">\n",
       "      <th></th>\n",
       "      <th>Age</th>\n",
       "      <th>RoomService</th>\n",
       "      <th>FoodCourt</th>\n",
       "      <th>ShoppingMall</th>\n",
       "      <th>Spa</th>\n",
       "      <th>VRDeck</th>\n",
       "      <th>Europa</th>\n",
       "      <th>Mars</th>\n",
       "      <th>True</th>\n",
       "      <th>PSO J318.5-22</th>\n",
       "      <th>...</th>\n",
       "      <th>D</th>\n",
       "      <th>E</th>\n",
       "      <th>F</th>\n",
       "      <th>G</th>\n",
       "      <th>P</th>\n",
       "      <th>S</th>\n",
       "      <th>T</th>\n",
       "      <th>G</th>\n",
       "      <th>P</th>\n",
       "      <th>S</th>\n",
       "    </tr>\n",
       "  </thead>\n",
       "  <tbody>\n",
       "    <tr>\n",
       "      <th>0</th>\n",
       "      <td>0.341772</td>\n",
       "      <td>0.000000</td>\n",
       "      <td>0.000000</td>\n",
       "      <td>0.00000</td>\n",
       "      <td>0.000000</td>\n",
       "      <td>0.000000</td>\n",
       "      <td>0</td>\n",
       "      <td>0</td>\n",
       "      <td>1</td>\n",
       "      <td>0</td>\n",
       "      <td>...</td>\n",
       "      <td>0</td>\n",
       "      <td>0</td>\n",
       "      <td>0</td>\n",
       "      <td>1</td>\n",
       "      <td>0</td>\n",
       "      <td>0</td>\n",
       "      <td>0</td>\n",
       "      <td>0</td>\n",
       "      <td>0</td>\n",
       "      <td>1</td>\n",
       "    </tr>\n",
       "    <tr>\n",
       "      <th>1</th>\n",
       "      <td>0.240506</td>\n",
       "      <td>0.000000</td>\n",
       "      <td>0.000302</td>\n",
       "      <td>0.00000</td>\n",
       "      <td>0.125982</td>\n",
       "      <td>0.000000</td>\n",
       "      <td>0</td>\n",
       "      <td>0</td>\n",
       "      <td>0</td>\n",
       "      <td>0</td>\n",
       "      <td>...</td>\n",
       "      <td>0</td>\n",
       "      <td>0</td>\n",
       "      <td>1</td>\n",
       "      <td>0</td>\n",
       "      <td>0</td>\n",
       "      <td>0</td>\n",
       "      <td>0</td>\n",
       "      <td>0</td>\n",
       "      <td>0</td>\n",
       "      <td>1</td>\n",
       "    </tr>\n",
       "    <tr>\n",
       "      <th>2</th>\n",
       "      <td>0.392405</td>\n",
       "      <td>0.000000</td>\n",
       "      <td>0.000000</td>\n",
       "      <td>0.00000</td>\n",
       "      <td>0.000000</td>\n",
       "      <td>0.000000</td>\n",
       "      <td>1</td>\n",
       "      <td>0</td>\n",
       "      <td>1</td>\n",
       "      <td>0</td>\n",
       "      <td>...</td>\n",
       "      <td>0</td>\n",
       "      <td>0</td>\n",
       "      <td>0</td>\n",
       "      <td>0</td>\n",
       "      <td>0</td>\n",
       "      <td>0</td>\n",
       "      <td>0</td>\n",
       "      <td>0</td>\n",
       "      <td>0</td>\n",
       "      <td>1</td>\n",
       "    </tr>\n",
       "    <tr>\n",
       "      <th>3</th>\n",
       "      <td>0.481013</td>\n",
       "      <td>0.000000</td>\n",
       "      <td>0.223124</td>\n",
       "      <td>0.00000</td>\n",
       "      <td>0.008077</td>\n",
       "      <td>0.024241</td>\n",
       "      <td>1</td>\n",
       "      <td>0</td>\n",
       "      <td>0</td>\n",
       "      <td>0</td>\n",
       "      <td>...</td>\n",
       "      <td>0</td>\n",
       "      <td>0</td>\n",
       "      <td>0</td>\n",
       "      <td>0</td>\n",
       "      <td>0</td>\n",
       "      <td>0</td>\n",
       "      <td>0</td>\n",
       "      <td>0</td>\n",
       "      <td>0</td>\n",
       "      <td>1</td>\n",
       "    </tr>\n",
       "    <tr>\n",
       "      <th>4</th>\n",
       "      <td>0.253165</td>\n",
       "      <td>0.000698</td>\n",
       "      <td>0.000000</td>\n",
       "      <td>0.02703</td>\n",
       "      <td>0.000000</td>\n",
       "      <td>0.000000</td>\n",
       "      <td>0</td>\n",
       "      <td>0</td>\n",
       "      <td>0</td>\n",
       "      <td>0</td>\n",
       "      <td>...</td>\n",
       "      <td>0</td>\n",
       "      <td>0</td>\n",
       "      <td>1</td>\n",
       "      <td>0</td>\n",
       "      <td>0</td>\n",
       "      <td>0</td>\n",
       "      <td>0</td>\n",
       "      <td>0</td>\n",
       "      <td>0</td>\n",
       "      <td>1</td>\n",
       "    </tr>\n",
       "  </tbody>\n",
       "</table>\n",
       "<p>5 rows × 24 columns</p>\n",
       "</div>"
      ],
      "text/plain": [
       "        Age  RoomService  FoodCourt  ShoppingMall       Spa    VRDeck  Europa  \\\n",
       "0  0.341772     0.000000   0.000000       0.00000  0.000000  0.000000       0   \n",
       "1  0.240506     0.000000   0.000302       0.00000  0.125982  0.000000       0   \n",
       "2  0.392405     0.000000   0.000000       0.00000  0.000000  0.000000       1   \n",
       "3  0.481013     0.000000   0.223124       0.00000  0.008077  0.024241       1   \n",
       "4  0.253165     0.000698   0.000000       0.02703  0.000000  0.000000       0   \n",
       "\n",
       "   Mars  True  PSO J318.5-22  ...  D  E  F  G  P  S  T  G  P  S  \n",
       "0     0     1              0  ...  0  0  0  1  0  0  0  0  0  1  \n",
       "1     0     0              0  ...  0  0  1  0  0  0  0  0  0  1  \n",
       "2     0     1              0  ...  0  0  0  0  0  0  0  0  0  1  \n",
       "3     0     0              0  ...  0  0  0  0  0  0  0  0  0  1  \n",
       "4     0     0              0  ...  0  0  1  0  0  0  0  0  0  1  \n",
       "\n",
       "[5 rows x 24 columns]"
      ]
     },
     "execution_count": 84,
     "metadata": {},
     "output_type": "execute_result"
    }
   ],
   "source": [
    "df_test.head()"
   ]
  },
  {
   "cell_type": "code",
   "execution_count": 85,
   "id": "c6c83758",
   "metadata": {},
   "outputs": [],
   "source": [
    "X = df_train.drop('Transported',axis=1)\n",
    "y = df_train['Transported']"
   ]
  },
  {
   "cell_type": "markdown",
   "id": "190bc188",
   "metadata": {},
   "source": [
    "### Splitting the dataset"
   ]
  },
  {
   "cell_type": "code",
   "execution_count": 86,
   "id": "1658da72",
   "metadata": {},
   "outputs": [],
   "source": [
    "from sklearn.model_selection import train_test_split"
   ]
  },
  {
   "cell_type": "code",
   "execution_count": 154,
   "id": "2757bf7a",
   "metadata": {},
   "outputs": [],
   "source": [
    "X_train,X_cv,y_train,y_cv = train_test_split(X,y,test_size=0.1,random_state=101)"
   ]
  },
  {
   "cell_type": "code",
   "execution_count": 89,
   "id": "29137480",
   "metadata": {},
   "outputs": [],
   "source": [
    "X_train.to_csv('X_train.csv')\n",
    "X_cv.to_csv('X_cv.csv')\n",
    "y_train.to_csv('y_train.csv')\n",
    "y_cv.to_csv('y_cv.csv')\n",
    "df_test.to_csv('X_test.csv')"
   ]
  },
  {
   "cell_type": "markdown",
   "id": "c81b8dd0",
   "metadata": {},
   "source": [
    "### Training the model"
   ]
  },
  {
   "cell_type": "code",
   "execution_count": 90,
   "id": "514c4442",
   "metadata": {},
   "outputs": [],
   "source": [
    "X_train = pd.read_csv('X_train.csv')\n",
    "X_cv = pd.read_csv('X_cv.csv')\n",
    "y_train = pd.read_csv('y_train.csv')\n",
    "y_cv = pd.read_csv('y_cv.csv')\n",
    "X_test = pd.read_csv('X_test.csv')"
   ]
  },
  {
   "cell_type": "code",
   "execution_count": 146,
   "id": "bc0a6fbb",
   "metadata": {},
   "outputs": [],
   "source": [
    "transported = pd.get_dummies(y_train['Transported'],drop_first=True)\n",
    "y_train = pd.concat([y_train,transported],axis=1)\n",
    "y_train = y_train.drop(['Unnamed: 0','Transported'],axis=1)"
   ]
  },
  {
   "cell_type": "code",
   "execution_count": 155,
   "id": "acd90726",
   "metadata": {},
   "outputs": [],
   "source": [
    "transported = pd.get_dummies(y_train,drop_first=True)\n",
    "y_train = pd.concat([y_train,transported],axis=1)\n",
    "y_train = y_train.drop(['Transported'],axis=1)\n",
    "\n",
    "transported = pd.get_dummies(y_cv,drop_first=True)\n",
    "y_cv = pd.concat([y_cv,transported],axis=1)\n",
    "y_cv = y_cv.drop(['Transported'],axis=1)"
   ]
  },
  {
   "cell_type": "code",
   "execution_count": 92,
   "id": "1fa5d262",
   "metadata": {},
   "outputs": [],
   "source": [
    "transported = pd.get_dummies(y_cv['Transported'],drop_first=True)\n",
    "y_cv = pd.concat([y_cv,transported],axis=1)\n",
    "y_cv = y_cv.drop(['Unnamed: 0','Transported'],axis=1)"
   ]
  },
  {
   "cell_type": "code",
   "execution_count": null,
   "id": "b58528cf",
   "metadata": {},
   "outputs": [],
   "source": [
    "X_train = X_train.drop('Unnamed: 0',axis=1)\n",
    "X_cv = X_cv.drop('Unnamed: 0',axis=1)\n",
    "X_test = X_test.drop('Unnamed: 0',axis=1)"
   ]
  },
  {
   "cell_type": "code",
   "execution_count": 158,
   "id": "1f0d8d45",
   "metadata": {},
   "outputs": [],
   "source": [
    "y_train = np.array(y_train)\n",
    "y_train = y_train.reshape(7823)"
   ]
  },
  {
   "cell_type": "code",
   "execution_count": 160,
   "id": "b40d9376",
   "metadata": {},
   "outputs": [],
   "source": [
    "y_cv = np.array(y_cv)\n",
    "y_cv = y_cv.reshape(870)"
   ]
  },
  {
   "cell_type": "code",
   "execution_count": 356,
   "id": "500e6401",
   "metadata": {},
   "outputs": [],
   "source": [
    "y = np.array(y)\n",
    "y = y.reshape(8693)"
   ]
  },
  {
   "cell_type": "markdown",
   "id": "1b21f280",
   "metadata": {},
   "source": [
    "#### Logistic Regression"
   ]
  },
  {
   "cell_type": "code",
   "execution_count": 96,
   "id": "cdcdb625",
   "metadata": {},
   "outputs": [],
   "source": [
    "from sklearn.linear_model import LogisticRegression"
   ]
  },
  {
   "cell_type": "code",
   "execution_count": 366,
   "id": "5494159c",
   "metadata": {},
   "outputs": [],
   "source": [
    "model = LogisticRegression()\n",
    "model.fit(X,y)\n",
    "pred = model.predict(X_cv)"
   ]
  },
  {
   "cell_type": "code",
   "execution_count": 367,
   "id": "aa19855f",
   "metadata": {},
   "outputs": [],
   "source": [
    "from sklearn.metrics import accuracy_score,f1_score,confusion_matrix,classification_report"
   ]
  },
  {
   "cell_type": "code",
   "execution_count": 368,
   "id": "299b8a52",
   "metadata": {},
   "outputs": [
    {
     "name": "stdout",
     "output_type": "stream",
     "text": [
      "0.7689655172413793\n",
      "\n",
      "0.755771567436209\n",
      "\n",
      "[[358 121]\n",
      " [ 80 311]]\n",
      "\n",
      "              precision    recall  f1-score   support\n",
      "\n",
      "           0       0.82      0.75      0.78       479\n",
      "           1       0.72      0.80      0.76       391\n",
      "\n",
      "    accuracy                           0.77       870\n",
      "   macro avg       0.77      0.77      0.77       870\n",
      "weighted avg       0.77      0.77      0.77       870\n",
      "\n"
     ]
    }
   ],
   "source": [
    "print(accuracy_score(pred,y_cv))\n",
    "print()\n",
    "print(f1_score(pred,y_cv))\n",
    "print()\n",
    "print(confusion_matrix(pred,y_cv))\n",
    "print()\n",
    "print(classification_report(pred,y_cv))"
   ]
  },
  {
   "cell_type": "code",
   "execution_count": 369,
   "id": "8ca8c93e",
   "metadata": {},
   "outputs": [],
   "source": [
    "pred = model.predict(X_test)\n",
    "pred = pd.DataFrame(pred,columns = ['Transported'])\n",
    "pred['Transported'] = pred['Transported'].apply(func)\n",
    "pred = pd.concat([pass_id,pred],axis=1)\n",
    "pred.to_csv('pred_logistic.csv',index = False)"
   ]
  },
  {
   "cell_type": "markdown",
   "id": "a596c19a",
   "metadata": {},
   "source": [
    "#### Naive Bayes"
   ]
  },
  {
   "cell_type": "code",
   "execution_count": 100,
   "id": "a0975d93",
   "metadata": {},
   "outputs": [],
   "source": [
    "from sklearn.naive_bayes import MultinomialNB"
   ]
  },
  {
   "cell_type": "code",
   "execution_count": 101,
   "id": "249eb8de",
   "metadata": {},
   "outputs": [],
   "source": [
    "model = MultinomialNB()\n",
    "model.fit(X_train,y_train)\n",
    "pred = model.predict(X_cv)"
   ]
  },
  {
   "cell_type": "code",
   "execution_count": 102,
   "id": "fcd259cf",
   "metadata": {},
   "outputs": [
    {
     "name": "stdout",
     "output_type": "stream",
     "text": [
      "0.7291546866014951\n",
      "\n",
      "0.7150635208711433\n",
      "\n",
      "[[677 271]\n",
      " [200 591]]\n",
      "\n",
      "              precision    recall  f1-score   support\n",
      "\n",
      "           0       0.77      0.71      0.74       948\n",
      "           1       0.69      0.75      0.72       791\n",
      "\n",
      "    accuracy                           0.73      1739\n",
      "   macro avg       0.73      0.73      0.73      1739\n",
      "weighted avg       0.73      0.73      0.73      1739\n",
      "\n"
     ]
    }
   ],
   "source": [
    "print(accuracy_score(pred,y_cv))\n",
    "print()\n",
    "print(f1_score(pred,y_cv))\n",
    "print()\n",
    "print(confusion_matrix(pred,y_cv))\n",
    "print()\n",
    "print(classification_report(pred,y_cv))"
   ]
  },
  {
   "cell_type": "markdown",
   "id": "9ef0b9fe",
   "metadata": {},
   "source": [
    "#### KNN"
   ]
  },
  {
   "cell_type": "code",
   "execution_count": 103,
   "id": "dae15be0",
   "metadata": {},
   "outputs": [],
   "source": [
    "from sklearn.neighbors import KNeighborsClassifier"
   ]
  },
  {
   "cell_type": "code",
   "execution_count": 104,
   "id": "cdf1ab8b",
   "metadata": {},
   "outputs": [],
   "source": [
    "model = KNeighborsClassifier(n_neighbors=17, weights='uniform',n_jobs=-1)\n",
    "model.fit(X_train,y_train)\n",
    "pred = model.predict(X_cv)"
   ]
  },
  {
   "cell_type": "code",
   "execution_count": 105,
   "id": "b1ea9ff9",
   "metadata": {},
   "outputs": [
    {
     "name": "stdout",
     "output_type": "stream",
     "text": [
      "0.7665324899367453\n",
      "\n",
      "0.7542372881355932\n",
      "\n",
      "[[710 239]\n",
      " [167 623]]\n",
      "\n",
      "              precision    recall  f1-score   support\n",
      "\n",
      "           0       0.81      0.75      0.78       949\n",
      "           1       0.72      0.79      0.75       790\n",
      "\n",
      "    accuracy                           0.77      1739\n",
      "   macro avg       0.77      0.77      0.77      1739\n",
      "weighted avg       0.77      0.77      0.77      1739\n",
      "\n"
     ]
    }
   ],
   "source": [
    "print(accuracy_score(pred,y_cv))\n",
    "print()\n",
    "print(f1_score(pred,y_cv))\n",
    "print()\n",
    "print(confusion_matrix(pred,y_cv))\n",
    "print()\n",
    "print(classification_report(pred,y_cv))"
   ]
  },
  {
   "cell_type": "markdown",
   "id": "7c546a35",
   "metadata": {},
   "source": [
    "#### Suppport Vector Machines"
   ]
  },
  {
   "cell_type": "code",
   "execution_count": 326,
   "id": "f690b50b",
   "metadata": {},
   "outputs": [],
   "source": [
    "from sklearn.svm import LinearSVC"
   ]
  },
  {
   "cell_type": "code",
   "execution_count": 360,
   "id": "33ff8e8f",
   "metadata": {},
   "outputs": [],
   "source": [
    "model = LinearSVC(C=1)\n",
    "model.fit(X,y)\n",
    "pred = model.predict(X_cv)"
   ]
  },
  {
   "cell_type": "code",
   "execution_count": 361,
   "id": "26bd67b3",
   "metadata": {},
   "outputs": [
    {
     "name": "stdout",
     "output_type": "stream",
     "text": [
      "0.8\n",
      "\n",
      "0.7972027972027971\n",
      "\n",
      "[[354  90]\n",
      " [ 84 342]]\n",
      "\n",
      "              precision    recall  f1-score   support\n",
      "\n",
      "           0       0.81      0.80      0.80       444\n",
      "           1       0.79      0.80      0.80       426\n",
      "\n",
      "    accuracy                           0.80       870\n",
      "   macro avg       0.80      0.80      0.80       870\n",
      "weighted avg       0.80      0.80      0.80       870\n",
      "\n"
     ]
    }
   ],
   "source": [
    "print(accuracy_score(pred,y_cv))\n",
    "print()\n",
    "print(f1_score(pred,y_cv))\n",
    "print()\n",
    "print(confusion_matrix(pred,y_cv))\n",
    "print()\n",
    "print(classification_report(pred,y_cv))"
   ]
  },
  {
   "cell_type": "code",
   "execution_count": 362,
   "id": "e329a73d",
   "metadata": {},
   "outputs": [],
   "source": [
    "pred = model.predict(X_test)\n",
    "pred = pd.DataFrame(pred,columns = ['Transported'])\n",
    "pred['Transported'] = pred['Transported'].apply(func)\n",
    "pred = pd.concat([pass_id,pred],axis=1)\n",
    "pred.to_csv('prd_SVMc1.csv',index = False)"
   ]
  },
  {
   "cell_type": "markdown",
   "id": "4ee7daaa",
   "metadata": {},
   "source": [
    "#### Decision Tree"
   ]
  },
  {
   "cell_type": "code",
   "execution_count": 109,
   "id": "70157aba",
   "metadata": {},
   "outputs": [],
   "source": [
    "from sklearn.tree import DecisionTreeClassifier"
   ]
  },
  {
   "cell_type": "code",
   "execution_count": 110,
   "id": "0a0f18c6",
   "metadata": {},
   "outputs": [],
   "source": [
    "model = DecisionTreeClassifier()\n",
    "model.fit(X_train,y_train)\n",
    "pred = model.predict(X_cv)"
   ]
  },
  {
   "cell_type": "code",
   "execution_count": 111,
   "id": "24971f59",
   "metadata": {},
   "outputs": [
    {
     "name": "stdout",
     "output_type": "stream",
     "text": [
      "0.7343300747556066\n",
      "\n",
      "0.7404494382022473\n",
      "\n",
      "[[618 203]\n",
      " [259 659]]\n",
      "\n",
      "              precision    recall  f1-score   support\n",
      "\n",
      "           0       0.70      0.75      0.73       821\n",
      "           1       0.76      0.72      0.74       918\n",
      "\n",
      "    accuracy                           0.73      1739\n",
      "   macro avg       0.73      0.74      0.73      1739\n",
      "weighted avg       0.74      0.73      0.73      1739\n",
      "\n"
     ]
    }
   ],
   "source": [
    "print(accuracy_score(pred,y_cv))\n",
    "print()\n",
    "print(f1_score(pred,y_cv))\n",
    "print()\n",
    "print(confusion_matrix(pred,y_cv))\n",
    "print()\n",
    "print(classification_report(pred,y_cv))"
   ]
  },
  {
   "cell_type": "markdown",
   "id": "12d54afa",
   "metadata": {},
   "source": [
    "#### Bagging Decision Tree"
   ]
  },
  {
   "cell_type": "code",
   "execution_count": 401,
   "id": "5cea3297",
   "metadata": {},
   "outputs": [],
   "source": [
    "from sklearn.ensemble import BaggingClassifier\n",
    "from sklearn.tree import DecisionTreeClassifier"
   ]
  },
  {
   "cell_type": "code",
   "execution_count": 404,
   "id": "1d0422b1",
   "metadata": {},
   "outputs": [],
   "source": [
    "model = BaggingClassifier(DecisionTreeClassifier(),max_samples=0.1,max_features=1.0,n_estimators=20)\n",
    "model.fit(X,y)\n",
    "pred = model.predict(X_cv)"
   ]
  },
  {
   "cell_type": "code",
   "execution_count": 405,
   "id": "61b69a3f",
   "metadata": {},
   "outputs": [
    {
     "name": "stdout",
     "output_type": "stream",
     "text": [
      "0.8344827586206897\n",
      "\n",
      "0.8313817330210773\n",
      "\n",
      "[[371  77]\n",
      " [ 67 355]]\n",
      "\n",
      "              precision    recall  f1-score   support\n",
      "\n",
      "           0       0.85      0.83      0.84       448\n",
      "           1       0.82      0.84      0.83       422\n",
      "\n",
      "    accuracy                           0.83       870\n",
      "   macro avg       0.83      0.83      0.83       870\n",
      "weighted avg       0.83      0.83      0.83       870\n",
      "\n"
     ]
    }
   ],
   "source": [
    "print(accuracy_score(pred,y_cv))\n",
    "print()\n",
    "print(f1_score(pred,y_cv))\n",
    "print()\n",
    "print(confusion_matrix(pred,y_cv))\n",
    "print()\n",
    "print(classification_report(pred,y_cv))"
   ]
  },
  {
   "cell_type": "code",
   "execution_count": 406,
   "id": "e0c33660",
   "metadata": {},
   "outputs": [],
   "source": [
    "pred = model.predict(X_test)\n",
    "pred = pd.DataFrame(pred,columns = ['Transported'])\n",
    "pred['Transported'] = pred['Transported'].apply(func)\n",
    "pred = pd.concat([pass_id,pred],axis=1)\n",
    "pred.to_csv('prd_bagging.csv',index = False)"
   ]
  },
  {
   "cell_type": "markdown",
   "id": "7bc84677",
   "metadata": {},
   "source": [
    "#### Boosting Decision Tree"
   ]
  },
  {
   "cell_type": "code",
   "execution_count": 381,
   "id": "8e4659bb",
   "metadata": {},
   "outputs": [],
   "source": [
    "from sklearn.ensemble import AdaBoostClassifier\n",
    "from sklearn.tree import DecisionTreeClassifier"
   ]
  },
  {
   "cell_type": "code",
   "execution_count": 398,
   "id": "070692a7",
   "metadata": {},
   "outputs": [],
   "source": [
    "model = AdaBoostClassifier(DecisionTreeClassifier(min_samples_split=10,max_depth=4),n_estimators=45,learning_rate=0.2)\n",
    "model.fit(X,y)\n",
    "pred = model.predict(X_cv)"
   ]
  },
  {
   "cell_type": "code",
   "execution_count": 399,
   "id": "e5dafe17",
   "metadata": {},
   "outputs": [
    {
     "name": "stdout",
     "output_type": "stream",
     "text": [
      "0.8367816091954023\n",
      "\n",
      "0.8425720620842572\n",
      "\n",
      "[[348  52]\n",
      " [ 90 380]]\n",
      "\n",
      "              precision    recall  f1-score   support\n",
      "\n",
      "           0       0.79      0.87      0.83       400\n",
      "           1       0.88      0.81      0.84       470\n",
      "\n",
      "    accuracy                           0.84       870\n",
      "   macro avg       0.84      0.84      0.84       870\n",
      "weighted avg       0.84      0.84      0.84       870\n",
      "\n"
     ]
    }
   ],
   "source": [
    "print(accuracy_score(pred,y_cv))\n",
    "print()\n",
    "print(f1_score(pred,y_cv))\n",
    "print()\n",
    "print(confusion_matrix(pred,y_cv))\n",
    "print()\n",
    "print(classification_report(pred,y_cv))"
   ]
  },
  {
   "cell_type": "code",
   "execution_count": 400,
   "id": "2056dcaa",
   "metadata": {},
   "outputs": [],
   "source": [
    "pred = model.predict(X_test)\n",
    "pred = pd.DataFrame(pred,columns = ['Transported'])\n",
    "pred['Transported'] = pred['Transported'].apply(func)\n",
    "pred = pd.concat([pass_id,pred],axis=1)\n",
    "pred.to_csv('prd_adaboost.csv',index = False)"
   ]
  },
  {
   "cell_type": "markdown",
   "id": "565ce6ec",
   "metadata": {},
   "source": [
    "#### Random Forest Classifier"
   ]
  },
  {
   "cell_type": "code",
   "execution_count": 370,
   "id": "bd972372",
   "metadata": {},
   "outputs": [],
   "source": [
    "from sklearn.ensemble import RandomForestClassifier"
   ]
  },
  {
   "cell_type": "code",
   "execution_count": 378,
   "id": "dcb09804",
   "metadata": {},
   "outputs": [],
   "source": [
    "model = RandomForestClassifier(n_estimators=15, max_depth=10)\n",
    "model.fit(X,y)\n",
    "pred = model.predict(X_cv)"
   ]
  },
  {
   "cell_type": "code",
   "execution_count": 379,
   "id": "d7af3dbf",
   "metadata": {},
   "outputs": [
    {
     "name": "stdout",
     "output_type": "stream",
     "text": [
      "0.8494252873563218\n",
      "\n",
      "0.8513053348467651\n",
      "\n",
      "[[364  57]\n",
      " [ 74 375]]\n",
      "\n",
      "              precision    recall  f1-score   support\n",
      "\n",
      "           0       0.83      0.86      0.85       421\n",
      "           1       0.87      0.84      0.85       449\n",
      "\n",
      "    accuracy                           0.85       870\n",
      "   macro avg       0.85      0.85      0.85       870\n",
      "weighted avg       0.85      0.85      0.85       870\n",
      "\n"
     ]
    }
   ],
   "source": [
    "print(accuracy_score(pred,y_cv))\n",
    "print()\n",
    "print(f1_score(pred,y_cv))\n",
    "print()\n",
    "print(confusion_matrix(pred,y_cv))\n",
    "print()\n",
    "print(classification_report(pred,y_cv))"
   ]
  },
  {
   "cell_type": "code",
   "execution_count": 380,
   "id": "128585c2",
   "metadata": {},
   "outputs": [],
   "source": [
    "pred = model.predict(X_test)\n",
    "pred = pd.DataFrame(pred,columns = ['Transported'])\n",
    "pred['Transported'] = pred['Transported'].apply(func)\n",
    "pred = pd.concat([pass_id,pred],axis=1)\n",
    "pred.to_csv('pred_RandomForest.csv',index = False)"
   ]
  },
  {
   "cell_type": "markdown",
   "id": "b0d1673d",
   "metadata": {},
   "source": [
    "#### Voting Classifer"
   ]
  },
  {
   "cell_type": "code",
   "execution_count": 121,
   "id": "4ed4bdcc",
   "metadata": {},
   "outputs": [],
   "source": [
    "from sklearn.ensemble import VotingClassifier\n",
    "from sklearn.naive_bayes import MultinomialNB\n",
    "from sklearn.linear_model import LogisticRegression\n",
    "from sklearn.ensemble import RandomForestClassifier\n",
    "from sklearn.svm import SVC"
   ]
  },
  {
   "cell_type": "code",
   "execution_count": 122,
   "id": "5a4c325a",
   "metadata": {},
   "outputs": [],
   "source": [
    "estimator = []\n",
    "estimator.append(('MNB',MultinomialNB()))\n",
    "estimator.append(('LR',LogisticRegression(max_iter=10000000000000)))\n",
    "estimator.append(('RF',RandomForestClassifier()))\n",
    "estimator.append(('SVM',SVC()))"
   ]
  },
  {
   "cell_type": "code",
   "execution_count": 123,
   "id": "790482e2",
   "metadata": {},
   "outputs": [],
   "source": [
    "model = VotingClassifier(estimators=estimator,voting = 'hard')\n",
    "model.fit(X_train,y_train)\n",
    "pred = model.predict(X_cv)"
   ]
  },
  {
   "cell_type": "code",
   "execution_count": 124,
   "id": "637f3457",
   "metadata": {},
   "outputs": [
    {
     "name": "stdout",
     "output_type": "stream",
     "text": [
      "0.7473219911783239\n",
      "\n",
      "0.7694077055779184\n",
      "\n",
      "[[745 269]\n",
      " [132 593]]\n",
      "\n",
      "              precision    recall  f1-score   support\n",
      "\n",
      "           0       0.85      0.73      0.79      1014\n",
      "           1       0.69      0.82      0.75       725\n",
      "\n",
      "    accuracy                           0.77      1739\n",
      "   macro avg       0.77      0.78      0.77      1739\n",
      "weighted avg       0.78      0.77      0.77      1739\n",
      "\n"
     ]
    }
   ],
   "source": [
    "print(f1_score(pred,y_cv))\n",
    "print()\n",
    "print(accuracy_score(pred,y_cv))\n",
    "print()\n",
    "print(confusion_matrix(pred,y_cv))\n",
    "print()\n",
    "print(classification_report(pred,y_cv))"
   ]
  },
  {
   "cell_type": "code",
   "execution_count": 173,
   "id": "a3d77431",
   "metadata": {},
   "outputs": [
    {
     "name": "stdout",
     "output_type": "stream",
     "text": [
      "(7823, 24)\n",
      "(870, 24)\n",
      "(7823,)\n",
      "(870,)\n",
      "(4277, 24)\n"
     ]
    }
   ],
   "source": [
    "print(X_train.shape)\n",
    "print(X_cv.shape)\n",
    "print(y_train.shape)\n",
    "print(y_cv.shape)\n",
    "print(X_test.shape)"
   ]
  },
  {
   "cell_type": "code",
   "execution_count": 216,
   "id": "429823df",
   "metadata": {},
   "outputs": [],
   "source": [
    "transported = pd.get_dummies(y,drop_first=True)\n",
    "y = pd.concat([y,transported],axis=1)\n",
    "y = y.drop(['Transported'],axis=1)"
   ]
  },
  {
   "cell_type": "code",
   "execution_count": 217,
   "id": "8687b210",
   "metadata": {},
   "outputs": [
    {
     "data": {
      "text/html": [
       "<div>\n",
       "<style scoped>\n",
       "    .dataframe tbody tr th:only-of-type {\n",
       "        vertical-align: middle;\n",
       "    }\n",
       "\n",
       "    .dataframe tbody tr th {\n",
       "        vertical-align: top;\n",
       "    }\n",
       "\n",
       "    .dataframe thead th {\n",
       "        text-align: right;\n",
       "    }\n",
       "</style>\n",
       "<table border=\"1\" class=\"dataframe\">\n",
       "  <thead>\n",
       "    <tr style=\"text-align: right;\">\n",
       "      <th></th>\n",
       "      <th>True</th>\n",
       "    </tr>\n",
       "  </thead>\n",
       "  <tbody>\n",
       "    <tr>\n",
       "      <th>0</th>\n",
       "      <td>0</td>\n",
       "    </tr>\n",
       "    <tr>\n",
       "      <th>1</th>\n",
       "      <td>1</td>\n",
       "    </tr>\n",
       "    <tr>\n",
       "      <th>2</th>\n",
       "      <td>0</td>\n",
       "    </tr>\n",
       "    <tr>\n",
       "      <th>3</th>\n",
       "      <td>0</td>\n",
       "    </tr>\n",
       "    <tr>\n",
       "      <th>4</th>\n",
       "      <td>1</td>\n",
       "    </tr>\n",
       "    <tr>\n",
       "      <th>...</th>\n",
       "      <td>...</td>\n",
       "    </tr>\n",
       "    <tr>\n",
       "      <th>8688</th>\n",
       "      <td>0</td>\n",
       "    </tr>\n",
       "    <tr>\n",
       "      <th>8689</th>\n",
       "      <td>0</td>\n",
       "    </tr>\n",
       "    <tr>\n",
       "      <th>8690</th>\n",
       "      <td>1</td>\n",
       "    </tr>\n",
       "    <tr>\n",
       "      <th>8691</th>\n",
       "      <td>0</td>\n",
       "    </tr>\n",
       "    <tr>\n",
       "      <th>8692</th>\n",
       "      <td>1</td>\n",
       "    </tr>\n",
       "  </tbody>\n",
       "</table>\n",
       "<p>8693 rows × 1 columns</p>\n",
       "</div>"
      ],
      "text/plain": [
       "      True\n",
       "0        0\n",
       "1        1\n",
       "2        0\n",
       "3        0\n",
       "4        1\n",
       "...    ...\n",
       "8688     0\n",
       "8689     0\n",
       "8690     1\n",
       "8691     0\n",
       "8692     1\n",
       "\n",
       "[8693 rows x 1 columns]"
      ]
     },
     "execution_count": 217,
     "metadata": {},
     "output_type": "execute_result"
    }
   ],
   "source": [
    "y"
   ]
  },
  {
   "cell_type": "markdown",
   "id": "5145e22f",
   "metadata": {},
   "source": [
    "#### Neural Network"
   ]
  },
  {
   "cell_type": "code",
   "execution_count": 164,
   "id": "0fe4e185",
   "metadata": {},
   "outputs": [],
   "source": [
    "from keras import layers, models, optimizers, losses, metrics\n",
    "import tensorflow as tf\n",
    "from tensorflow.keras import regularizers\n",
    "from tensorflow.keras.models import Sequential\n",
    "from tensorflow.keras.layers import Dense,Dropout\n",
    "from tensorflow.keras.callbacks import EarlyStopping"
   ]
  },
  {
   "cell_type": "code",
   "execution_count": 318,
   "id": "6af4594e",
   "metadata": {},
   "outputs": [],
   "source": [
    "model = Sequential()\n",
    "\n",
    "model.add(Dense(24,kernel_regularizer=regularizers.l2(0.005),activation='relu'))\n",
    "model.add(Dropout(0.2))\n",
    "model.add(Dense(12,kernel_regularizer=regularizers.l2(0.005),activation='relu'))\n",
    "model.add(Dropout(0.2))\n",
    "#model.add(Dense(6,activation='relu'))\n",
    "#model.add(Dropout(0.1))\n",
    "#model.add(Dense(18,activation='relu'))\n",
    "#model.add(Dense(6,activation='relu'))\n",
    "#model.add(Dense(3,activation='relu'))\n",
    "#model.add(Dense(2,activation='relu'))\n",
    "model.add(Dense(1,activation='sigmoid'))"
   ]
  },
  {
   "cell_type": "code",
   "execution_count": 319,
   "id": "401f0239",
   "metadata": {},
   "outputs": [],
   "source": [
    "earlystop = EarlyStopping(monitor='val_loss',mode='min',verbose=1,patience=25)"
   ]
  },
  {
   "cell_type": "code",
   "execution_count": 320,
   "id": "540c028a",
   "metadata": {},
   "outputs": [],
   "source": [
    "model.compile(optimizer='rmsprop',loss='binary_crossentropy',metrics=['accuracy'])"
   ]
  },
  {
   "cell_type": "code",
   "execution_count": 321,
   "id": "f3787baf",
   "metadata": {},
   "outputs": [
    {
     "name": "stdout",
     "output_type": "stream",
     "text": [
      "Epoch 1/600\n",
      "34/34 [==============================] - 3s 19ms/step - loss: 0.8487 - accuracy: 0.5691 - val_loss: 0.8009 - val_accuracy: 0.6552\n",
      "Epoch 2/600\n",
      "34/34 [==============================] - 0s 8ms/step - loss: 0.7853 - accuracy: 0.6328 - val_loss: 0.7391 - val_accuracy: 0.6943\n",
      "Epoch 3/600\n",
      "34/34 [==============================] - 0s 8ms/step - loss: 0.7353 - accuracy: 0.6709 - val_loss: 0.6900 - val_accuracy: 0.7184\n",
      "Epoch 4/600\n",
      "34/34 [==============================] - 0s 8ms/step - loss: 0.6968 - accuracy: 0.6942 - val_loss: 0.6525 - val_accuracy: 0.7264\n",
      "Epoch 5/600\n",
      "34/34 [==============================] - 0s 8ms/step - loss: 0.6653 - accuracy: 0.7091 - val_loss: 0.6265 - val_accuracy: 0.7402\n",
      "Epoch 6/600\n",
      "34/34 [==============================] - 0s 8ms/step - loss: 0.6418 - accuracy: 0.7132 - val_loss: 0.6066 - val_accuracy: 0.7402\n",
      "Epoch 7/600\n",
      "34/34 [==============================] - 0s 8ms/step - loss: 0.6258 - accuracy: 0.7216 - val_loss: 0.5928 - val_accuracy: 0.7414\n",
      "Epoch 8/600\n",
      "34/34 [==============================] - 0s 7ms/step - loss: 0.6129 - accuracy: 0.7205 - val_loss: 0.5826 - val_accuracy: 0.7414\n",
      "Epoch 9/600\n",
      "34/34 [==============================] - 0s 7ms/step - loss: 0.6022 - accuracy: 0.7270 - val_loss: 0.5755 - val_accuracy: 0.7471\n",
      "Epoch 10/600\n",
      "34/34 [==============================] - 0s 7ms/step - loss: 0.5956 - accuracy: 0.7285 - val_loss: 0.5684 - val_accuracy: 0.7460\n",
      "Epoch 11/600\n",
      "34/34 [==============================] - 0s 7ms/step - loss: 0.5882 - accuracy: 0.7297 - val_loss: 0.5633 - val_accuracy: 0.7494\n",
      "Epoch 12/600\n",
      "34/34 [==============================] - 0s 7ms/step - loss: 0.5831 - accuracy: 0.7322 - val_loss: 0.5591 - val_accuracy: 0.7483\n",
      "Epoch 13/600\n",
      "34/34 [==============================] - 0s 8ms/step - loss: 0.5790 - accuracy: 0.7319 - val_loss: 0.5554 - val_accuracy: 0.7483\n",
      "Epoch 14/600\n",
      "34/34 [==============================] - 0s 7ms/step - loss: 0.5755 - accuracy: 0.7352 - val_loss: 0.5546 - val_accuracy: 0.7506\n",
      "Epoch 15/600\n",
      "34/34 [==============================] - 0s 7ms/step - loss: 0.5743 - accuracy: 0.7315 - val_loss: 0.5505 - val_accuracy: 0.7471\n",
      "Epoch 16/600\n",
      "34/34 [==============================] - 0s 7ms/step - loss: 0.5714 - accuracy: 0.7330 - val_loss: 0.5483 - val_accuracy: 0.7529\n",
      "Epoch 17/600\n",
      "34/34 [==============================] - 0s 7ms/step - loss: 0.5695 - accuracy: 0.7347 - val_loss: 0.5459 - val_accuracy: 0.7540\n",
      "Epoch 18/600\n",
      "34/34 [==============================] - 0s 7ms/step - loss: 0.5644 - accuracy: 0.7370 - val_loss: 0.5454 - val_accuracy: 0.7529\n",
      "Epoch 19/600\n",
      "34/34 [==============================] - 0s 7ms/step - loss: 0.5636 - accuracy: 0.7401 - val_loss: 0.5428 - val_accuracy: 0.7575\n",
      "Epoch 20/600\n",
      "34/34 [==============================] - 0s 7ms/step - loss: 0.5596 - accuracy: 0.7363 - val_loss: 0.5406 - val_accuracy: 0.7506\n",
      "Epoch 21/600\n",
      "34/34 [==============================] - 0s 8ms/step - loss: 0.5564 - accuracy: 0.7422 - val_loss: 0.5388 - val_accuracy: 0.7540\n",
      "Epoch 22/600\n",
      "34/34 [==============================] - 0s 8ms/step - loss: 0.5571 - accuracy: 0.7413 - val_loss: 0.5384 - val_accuracy: 0.7586\n",
      "Epoch 23/600\n",
      "34/34 [==============================] - 0s 7ms/step - loss: 0.5584 - accuracy: 0.7404 - val_loss: 0.5390 - val_accuracy: 0.7563\n",
      "Epoch 24/600\n",
      "34/34 [==============================] - 0s 7ms/step - loss: 0.5531 - accuracy: 0.7432 - val_loss: 0.5348 - val_accuracy: 0.7609\n",
      "Epoch 25/600\n",
      "34/34 [==============================] - 0s 8ms/step - loss: 0.5539 - accuracy: 0.7463 - val_loss: 0.5328 - val_accuracy: 0.7586\n",
      "Epoch 26/600\n",
      "34/34 [==============================] - 0s 8ms/step - loss: 0.5505 - accuracy: 0.7470 - val_loss: 0.5322 - val_accuracy: 0.7575\n",
      "Epoch 27/600\n",
      "34/34 [==============================] - 0s 8ms/step - loss: 0.5501 - accuracy: 0.7460 - val_loss: 0.5306 - val_accuracy: 0.7598\n",
      "Epoch 28/600\n",
      "34/34 [==============================] - 0s 8ms/step - loss: 0.5464 - accuracy: 0.7486 - val_loss: 0.5334 - val_accuracy: 0.7552\n",
      "Epoch 29/600\n",
      "34/34 [==============================] - 0s 8ms/step - loss: 0.5472 - accuracy: 0.7486 - val_loss: 0.5293 - val_accuracy: 0.7586\n",
      "Epoch 30/600\n",
      "34/34 [==============================] - 0s 8ms/step - loss: 0.5465 - accuracy: 0.7496 - val_loss: 0.5267 - val_accuracy: 0.7632\n",
      "Epoch 31/600\n",
      "34/34 [==============================] - 0s 8ms/step - loss: 0.5430 - accuracy: 0.7513 - val_loss: 0.5260 - val_accuracy: 0.7621\n",
      "Epoch 32/600\n",
      "34/34 [==============================] - 0s 8ms/step - loss: 0.5452 - accuracy: 0.7465 - val_loss: 0.5248 - val_accuracy: 0.7690\n",
      "Epoch 33/600\n",
      "34/34 [==============================] - 0s 8ms/step - loss: 0.5441 - accuracy: 0.7515 - val_loss: 0.5250 - val_accuracy: 0.7586\n",
      "Epoch 34/600\n",
      "34/34 [==============================] - 0s 8ms/step - loss: 0.5404 - accuracy: 0.7526 - val_loss: 0.5229 - val_accuracy: 0.7644\n",
      "Epoch 35/600\n",
      "34/34 [==============================] - 0s 8ms/step - loss: 0.5413 - accuracy: 0.7484 - val_loss: 0.5239 - val_accuracy: 0.7609\n",
      "Epoch 36/600\n",
      "34/34 [==============================] - 0s 8ms/step - loss: 0.5386 - accuracy: 0.7527 - val_loss: 0.5266 - val_accuracy: 0.7621\n",
      "Epoch 37/600\n",
      "34/34 [==============================] - 0s 8ms/step - loss: 0.5383 - accuracy: 0.7505 - val_loss: 0.5198 - val_accuracy: 0.7632\n",
      "Epoch 38/600\n",
      "34/34 [==============================] - 0s 8ms/step - loss: 0.5355 - accuracy: 0.7543 - val_loss: 0.5176 - val_accuracy: 0.7713\n",
      "Epoch 39/600\n",
      "34/34 [==============================] - 0s 8ms/step - loss: 0.5344 - accuracy: 0.7544 - val_loss: 0.5184 - val_accuracy: 0.7621\n",
      "Epoch 40/600\n",
      "34/34 [==============================] - 0s 8ms/step - loss: 0.5347 - accuracy: 0.7535 - val_loss: 0.5164 - val_accuracy: 0.7724\n",
      "Epoch 41/600\n",
      "34/34 [==============================] - 0s 8ms/step - loss: 0.5359 - accuracy: 0.7526 - val_loss: 0.5158 - val_accuracy: 0.7655\n",
      "Epoch 42/600\n",
      "34/34 [==============================] - 0s 8ms/step - loss: 0.5322 - accuracy: 0.7541 - val_loss: 0.5158 - val_accuracy: 0.7621\n",
      "Epoch 43/600\n",
      "34/34 [==============================] - 0s 7ms/step - loss: 0.5302 - accuracy: 0.7577 - val_loss: 0.5145 - val_accuracy: 0.7644\n",
      "Epoch 44/600\n",
      "34/34 [==============================] - 0s 8ms/step - loss: 0.5299 - accuracy: 0.7572 - val_loss: 0.5122 - val_accuracy: 0.7667\n",
      "Epoch 45/600\n",
      "34/34 [==============================] - 0s 8ms/step - loss: 0.5329 - accuracy: 0.7532 - val_loss: 0.5150 - val_accuracy: 0.7690\n",
      "Epoch 46/600\n",
      "34/34 [==============================] - 0s 8ms/step - loss: 0.5320 - accuracy: 0.7581 - val_loss: 0.5107 - val_accuracy: 0.7667\n",
      "Epoch 47/600\n",
      "34/34 [==============================] - 0s 7ms/step - loss: 0.5294 - accuracy: 0.7589 - val_loss: 0.5093 - val_accuracy: 0.7736\n",
      "Epoch 48/600\n",
      "34/34 [==============================] - 0s 8ms/step - loss: 0.5280 - accuracy: 0.7602 - val_loss: 0.5092 - val_accuracy: 0.7701\n",
      "Epoch 49/600\n",
      "34/34 [==============================] - 0s 7ms/step - loss: 0.5276 - accuracy: 0.7616 - val_loss: 0.5082 - val_accuracy: 0.7667\n",
      "Epoch 50/600\n",
      "34/34 [==============================] - 0s 8ms/step - loss: 0.5249 - accuracy: 0.7565 - val_loss: 0.5095 - val_accuracy: 0.7667\n",
      "Epoch 51/600\n",
      "34/34 [==============================] - 0s 7ms/step - loss: 0.5273 - accuracy: 0.7589 - val_loss: 0.5079 - val_accuracy: 0.7724\n",
      "Epoch 52/600\n",
      "34/34 [==============================] - 0s 8ms/step - loss: 0.5243 - accuracy: 0.7614 - val_loss: 0.5057 - val_accuracy: 0.7759\n",
      "Epoch 53/600\n",
      "34/34 [==============================] - 0s 8ms/step - loss: 0.5236 - accuracy: 0.7639 - val_loss: 0.5061 - val_accuracy: 0.7690\n",
      "Epoch 54/600\n",
      "34/34 [==============================] - 0s 8ms/step - loss: 0.5266 - accuracy: 0.7613 - val_loss: 0.5048 - val_accuracy: 0.7690\n",
      "Epoch 55/600\n",
      "34/34 [==============================] - 0s 8ms/step - loss: 0.5239 - accuracy: 0.7625 - val_loss: 0.5065 - val_accuracy: 0.7736\n",
      "Epoch 56/600\n",
      "34/34 [==============================] - 0s 7ms/step - loss: 0.5239 - accuracy: 0.7642 - val_loss: 0.5074 - val_accuracy: 0.7747\n",
      "Epoch 57/600\n",
      "34/34 [==============================] - 0s 8ms/step - loss: 0.5202 - accuracy: 0.7656 - val_loss: 0.5020 - val_accuracy: 0.7678\n",
      "Epoch 58/600\n",
      "34/34 [==============================] - 0s 8ms/step - loss: 0.5208 - accuracy: 0.7657 - val_loss: 0.5038 - val_accuracy: 0.7713\n"
     ]
    },
    {
     "name": "stdout",
     "output_type": "stream",
     "text": [
      "Epoch 59/600\n",
      "34/34 [==============================] - 0s 7ms/step - loss: 0.5191 - accuracy: 0.7643 - val_loss: 0.5024 - val_accuracy: 0.7736\n",
      "Epoch 60/600\n",
      "34/34 [==============================] - 0s 8ms/step - loss: 0.5210 - accuracy: 0.7665 - val_loss: 0.5017 - val_accuracy: 0.7816\n",
      "Epoch 61/600\n",
      "34/34 [==============================] - 0s 8ms/step - loss: 0.5205 - accuracy: 0.7662 - val_loss: 0.4994 - val_accuracy: 0.7736\n",
      "Epoch 62/600\n",
      "34/34 [==============================] - 0s 7ms/step - loss: 0.5186 - accuracy: 0.7629 - val_loss: 0.5011 - val_accuracy: 0.7701\n",
      "Epoch 63/600\n",
      "34/34 [==============================] - 0s 7ms/step - loss: 0.5212 - accuracy: 0.7639 - val_loss: 0.4987 - val_accuracy: 0.7747\n",
      "Epoch 64/600\n",
      "34/34 [==============================] - 0s 8ms/step - loss: 0.5151 - accuracy: 0.7667 - val_loss: 0.5035 - val_accuracy: 0.7851\n",
      "Epoch 65/600\n",
      "34/34 [==============================] - 0s 8ms/step - loss: 0.5165 - accuracy: 0.7692 - val_loss: 0.4977 - val_accuracy: 0.7724\n",
      "Epoch 66/600\n",
      "34/34 [==============================] - 0s 8ms/step - loss: 0.5180 - accuracy: 0.7690 - val_loss: 0.4983 - val_accuracy: 0.7816\n",
      "Epoch 67/600\n",
      "34/34 [==============================] - 0s 8ms/step - loss: 0.5154 - accuracy: 0.7683 - val_loss: 0.4991 - val_accuracy: 0.7874\n",
      "Epoch 68/600\n",
      "34/34 [==============================] - 0s 8ms/step - loss: 0.5169 - accuracy: 0.7680 - val_loss: 0.4961 - val_accuracy: 0.7770\n",
      "Epoch 69/600\n",
      "34/34 [==============================] - 0s 7ms/step - loss: 0.5156 - accuracy: 0.7690 - val_loss: 0.4961 - val_accuracy: 0.7736\n",
      "Epoch 70/600\n",
      "34/34 [==============================] - 0s 8ms/step - loss: 0.5147 - accuracy: 0.7700 - val_loss: 0.4964 - val_accuracy: 0.7782\n",
      "Epoch 71/600\n",
      "34/34 [==============================] - 0s 8ms/step - loss: 0.5131 - accuracy: 0.7677 - val_loss: 0.5016 - val_accuracy: 0.7897\n",
      "Epoch 72/600\n",
      "34/34 [==============================] - 0s 8ms/step - loss: 0.5132 - accuracy: 0.7681 - val_loss: 0.4928 - val_accuracy: 0.7782\n",
      "Epoch 73/600\n",
      "34/34 [==============================] - 0s 8ms/step - loss: 0.5139 - accuracy: 0.7721 - val_loss: 0.4935 - val_accuracy: 0.7851\n",
      "Epoch 74/600\n",
      "34/34 [==============================] - 0s 7ms/step - loss: 0.5106 - accuracy: 0.7738 - val_loss: 0.4913 - val_accuracy: 0.7885\n",
      "Epoch 75/600\n",
      "34/34 [==============================] - 0s 7ms/step - loss: 0.5130 - accuracy: 0.7687 - val_loss: 0.4943 - val_accuracy: 0.7805\n",
      "Epoch 76/600\n",
      "34/34 [==============================] - 0s 8ms/step - loss: 0.5090 - accuracy: 0.7690 - val_loss: 0.4949 - val_accuracy: 0.7931\n",
      "Epoch 77/600\n",
      "34/34 [==============================] - 0s 7ms/step - loss: 0.5111 - accuracy: 0.7734 - val_loss: 0.4964 - val_accuracy: 0.7747\n",
      "Epoch 78/600\n",
      "34/34 [==============================] - 0s 7ms/step - loss: 0.5090 - accuracy: 0.7721 - val_loss: 0.4920 - val_accuracy: 0.7931\n",
      "Epoch 79/600\n",
      "34/34 [==============================] - 0s 7ms/step - loss: 0.5112 - accuracy: 0.7694 - val_loss: 0.4888 - val_accuracy: 0.7874\n",
      "Epoch 80/600\n",
      "34/34 [==============================] - 0s 8ms/step - loss: 0.5092 - accuracy: 0.7710 - val_loss: 0.4909 - val_accuracy: 0.7908\n",
      "Epoch 81/600\n",
      "34/34 [==============================] - 0s 8ms/step - loss: 0.5097 - accuracy: 0.7737 - val_loss: 0.4891 - val_accuracy: 0.7782\n",
      "Epoch 82/600\n",
      "34/34 [==============================] - 0s 8ms/step - loss: 0.5099 - accuracy: 0.7736 - val_loss: 0.4905 - val_accuracy: 0.7862\n",
      "Epoch 83/600\n",
      "34/34 [==============================] - 0s 7ms/step - loss: 0.5096 - accuracy: 0.7707 - val_loss: 0.4885 - val_accuracy: 0.7724\n",
      "Epoch 84/600\n",
      "34/34 [==============================] - 0s 8ms/step - loss: 0.5086 - accuracy: 0.7715 - val_loss: 0.4871 - val_accuracy: 0.7897\n",
      "Epoch 85/600\n",
      "34/34 [==============================] - 0s 8ms/step - loss: 0.5066 - accuracy: 0.7690 - val_loss: 0.4863 - val_accuracy: 0.7908\n",
      "Epoch 86/600\n",
      "34/34 [==============================] - 0s 7ms/step - loss: 0.5040 - accuracy: 0.7766 - val_loss: 0.4863 - val_accuracy: 0.7759\n",
      "Epoch 87/600\n",
      "34/34 [==============================] - 0s 8ms/step - loss: 0.5046 - accuracy: 0.7730 - val_loss: 0.4966 - val_accuracy: 0.7931\n",
      "Epoch 88/600\n",
      "34/34 [==============================] - 0s 8ms/step - loss: 0.5038 - accuracy: 0.7719 - val_loss: 0.4850 - val_accuracy: 0.7874\n",
      "Epoch 89/600\n",
      "34/34 [==============================] - 0s 8ms/step - loss: 0.5061 - accuracy: 0.7722 - val_loss: 0.4856 - val_accuracy: 0.7931\n",
      "Epoch 90/600\n",
      "34/34 [==============================] - 0s 8ms/step - loss: 0.5053 - accuracy: 0.7769 - val_loss: 0.4856 - val_accuracy: 0.7874\n",
      "Epoch 91/600\n",
      "34/34 [==============================] - 0s 7ms/step - loss: 0.5026 - accuracy: 0.7743 - val_loss: 0.4825 - val_accuracy: 0.7897\n",
      "Epoch 92/600\n",
      "34/34 [==============================] - 0s 8ms/step - loss: 0.5043 - accuracy: 0.7730 - val_loss: 0.4852 - val_accuracy: 0.7851\n",
      "Epoch 93/600\n",
      "34/34 [==============================] - 0s 7ms/step - loss: 0.5028 - accuracy: 0.7766 - val_loss: 0.4891 - val_accuracy: 0.7966\n",
      "Epoch 94/600\n",
      "34/34 [==============================] - 0s 8ms/step - loss: 0.5034 - accuracy: 0.7803 - val_loss: 0.4839 - val_accuracy: 0.7943\n",
      "Epoch 95/600\n",
      "34/34 [==============================] - 0s 8ms/step - loss: 0.5032 - accuracy: 0.7768 - val_loss: 0.4824 - val_accuracy: 0.7851\n",
      "Epoch 96/600\n",
      "34/34 [==============================] - 0s 8ms/step - loss: 0.5004 - accuracy: 0.7769 - val_loss: 0.4852 - val_accuracy: 0.7931\n",
      "Epoch 97/600\n",
      "34/34 [==============================] - 0s 8ms/step - loss: 0.4994 - accuracy: 0.7746 - val_loss: 0.4820 - val_accuracy: 0.7816\n",
      "Epoch 98/600\n",
      "34/34 [==============================] - 0s 7ms/step - loss: 0.5004 - accuracy: 0.7757 - val_loss: 0.4886 - val_accuracy: 0.7943\n",
      "Epoch 99/600\n",
      "34/34 [==============================] - 0s 8ms/step - loss: 0.5023 - accuracy: 0.7767 - val_loss: 0.4860 - val_accuracy: 0.7943\n",
      "Epoch 100/600\n",
      "34/34 [==============================] - 0s 8ms/step - loss: 0.5029 - accuracy: 0.7765 - val_loss: 0.4812 - val_accuracy: 0.7931\n",
      "Epoch 101/600\n",
      "34/34 [==============================] - 0s 8ms/step - loss: 0.5003 - accuracy: 0.7802 - val_loss: 0.4803 - val_accuracy: 0.7931\n",
      "Epoch 102/600\n",
      "34/34 [==============================] - 0s 7ms/step - loss: 0.5005 - accuracy: 0.7755 - val_loss: 0.4800 - val_accuracy: 0.7908\n",
      "Epoch 103/600\n",
      "34/34 [==============================] - 0s 8ms/step - loss: 0.4990 - accuracy: 0.7775 - val_loss: 0.4805 - val_accuracy: 0.8000\n",
      "Epoch 104/600\n",
      "34/34 [==============================] - 0s 8ms/step - loss: 0.5008 - accuracy: 0.7757 - val_loss: 0.4789 - val_accuracy: 0.7977\n",
      "Epoch 105/600\n",
      "34/34 [==============================] - 0s 8ms/step - loss: 0.5003 - accuracy: 0.7735 - val_loss: 0.4781 - val_accuracy: 0.7885\n",
      "Epoch 106/600\n",
      "34/34 [==============================] - 0s 7ms/step - loss: 0.4991 - accuracy: 0.7787 - val_loss: 0.4817 - val_accuracy: 0.8000\n",
      "Epoch 107/600\n",
      "34/34 [==============================] - 0s 8ms/step - loss: 0.4989 - accuracy: 0.7758 - val_loss: 0.4778 - val_accuracy: 0.7862\n",
      "Epoch 108/600\n",
      "34/34 [==============================] - 0s 7ms/step - loss: 0.4977 - accuracy: 0.7798 - val_loss: 0.4778 - val_accuracy: 0.7885\n",
      "Epoch 109/600\n",
      "34/34 [==============================] - 0s 7ms/step - loss: 0.4969 - accuracy: 0.7771 - val_loss: 0.4771 - val_accuracy: 0.7874\n",
      "Epoch 110/600\n",
      "34/34 [==============================] - 0s 7ms/step - loss: 0.4969 - accuracy: 0.7748 - val_loss: 0.4786 - val_accuracy: 0.7874\n",
      "Epoch 111/600\n",
      "34/34 [==============================] - 0s 7ms/step - loss: 0.4965 - accuracy: 0.7784 - val_loss: 0.4780 - val_accuracy: 0.7747\n",
      "Epoch 112/600\n",
      "34/34 [==============================] - 0s 8ms/step - loss: 0.4971 - accuracy: 0.7768 - val_loss: 0.4775 - val_accuracy: 0.8057\n",
      "Epoch 113/600\n",
      "34/34 [==============================] - 0s 8ms/step - loss: 0.4976 - accuracy: 0.7778 - val_loss: 0.4759 - val_accuracy: 0.7885\n",
      "Epoch 114/600\n",
      "34/34 [==============================] - 0s 8ms/step - loss: 0.4984 - accuracy: 0.7779 - val_loss: 0.4754 - val_accuracy: 0.7943\n",
      "Epoch 115/600\n",
      "34/34 [==============================] - 0s 8ms/step - loss: 0.4936 - accuracy: 0.7818 - val_loss: 0.4777 - val_accuracy: 0.7885\n",
      "Epoch 116/600\n"
     ]
    },
    {
     "name": "stdout",
     "output_type": "stream",
     "text": [
      "34/34 [==============================] - 0s 8ms/step - loss: 0.4974 - accuracy: 0.7758 - val_loss: 0.4738 - val_accuracy: 0.7977\n",
      "Epoch 117/600\n",
      "34/34 [==============================] - 0s 8ms/step - loss: 0.4945 - accuracy: 0.7794 - val_loss: 0.4744 - val_accuracy: 0.7862\n",
      "Epoch 118/600\n",
      "34/34 [==============================] - 0s 8ms/step - loss: 0.4967 - accuracy: 0.7783 - val_loss: 0.4742 - val_accuracy: 0.7897\n",
      "Epoch 119/600\n",
      "34/34 [==============================] - 0s 8ms/step - loss: 0.4951 - accuracy: 0.7817 - val_loss: 0.4762 - val_accuracy: 0.7862\n",
      "Epoch 120/600\n",
      "34/34 [==============================] - 0s 8ms/step - loss: 0.4958 - accuracy: 0.7798 - val_loss: 0.4736 - val_accuracy: 0.7954\n",
      "Epoch 121/600\n",
      "34/34 [==============================] - 0s 8ms/step - loss: 0.4968 - accuracy: 0.7792 - val_loss: 0.4742 - val_accuracy: 0.7977\n",
      "Epoch 122/600\n",
      "34/34 [==============================] - 0s 8ms/step - loss: 0.4948 - accuracy: 0.7807 - val_loss: 0.4758 - val_accuracy: 0.8011\n",
      "Epoch 123/600\n",
      "34/34 [==============================] - 0s 8ms/step - loss: 0.4917 - accuracy: 0.7815 - val_loss: 0.4718 - val_accuracy: 0.8011\n",
      "Epoch 124/600\n",
      "34/34 [==============================] - 0s 8ms/step - loss: 0.4912 - accuracy: 0.7864 - val_loss: 0.4737 - val_accuracy: 0.7931\n",
      "Epoch 125/600\n",
      "34/34 [==============================] - 0s 8ms/step - loss: 0.4915 - accuracy: 0.7798 - val_loss: 0.4727 - val_accuracy: 0.7966\n",
      "Epoch 126/600\n",
      "34/34 [==============================] - 0s 7ms/step - loss: 0.4948 - accuracy: 0.7807 - val_loss: 0.4706 - val_accuracy: 0.7943\n",
      "Epoch 127/600\n",
      "34/34 [==============================] - 0s 7ms/step - loss: 0.4945 - accuracy: 0.7803 - val_loss: 0.4711 - val_accuracy: 0.7920\n",
      "Epoch 128/600\n",
      "34/34 [==============================] - 0s 8ms/step - loss: 0.4924 - accuracy: 0.7848 - val_loss: 0.4704 - val_accuracy: 0.8046\n",
      "Epoch 129/600\n",
      "34/34 [==============================] - 0s 8ms/step - loss: 0.4917 - accuracy: 0.7819 - val_loss: 0.4723 - val_accuracy: 0.7977\n",
      "Epoch 130/600\n",
      "34/34 [==============================] - 0s 8ms/step - loss: 0.4906 - accuracy: 0.7844 - val_loss: 0.4713 - val_accuracy: 0.7989\n",
      "Epoch 131/600\n",
      "34/34 [==============================] - 0s 8ms/step - loss: 0.4928 - accuracy: 0.7795 - val_loss: 0.4696 - val_accuracy: 0.7977\n",
      "Epoch 132/600\n",
      "34/34 [==============================] - 0s 8ms/step - loss: 0.4906 - accuracy: 0.7829 - val_loss: 0.4720 - val_accuracy: 0.8069\n",
      "Epoch 133/600\n",
      "34/34 [==============================] - 0s 8ms/step - loss: 0.4926 - accuracy: 0.7825 - val_loss: 0.4686 - val_accuracy: 0.7977\n",
      "Epoch 134/600\n",
      "34/34 [==============================] - 0s 8ms/step - loss: 0.4897 - accuracy: 0.7855 - val_loss: 0.4740 - val_accuracy: 0.8069\n",
      "Epoch 135/600\n",
      "34/34 [==============================] - 0s 7ms/step - loss: 0.4902 - accuracy: 0.7809 - val_loss: 0.4717 - val_accuracy: 0.7954\n",
      "Epoch 136/600\n",
      "34/34 [==============================] - 0s 7ms/step - loss: 0.4895 - accuracy: 0.7795 - val_loss: 0.4720 - val_accuracy: 0.7874\n",
      "Epoch 137/600\n",
      "34/34 [==============================] - 0s 7ms/step - loss: 0.4890 - accuracy: 0.7850 - val_loss: 0.4742 - val_accuracy: 0.8000\n",
      "Epoch 138/600\n",
      "34/34 [==============================] - 0s 8ms/step - loss: 0.4913 - accuracy: 0.7840 - val_loss: 0.4691 - val_accuracy: 0.8069\n",
      "Epoch 139/600\n",
      "34/34 [==============================] - 0s 7ms/step - loss: 0.4888 - accuracy: 0.7780 - val_loss: 0.4666 - val_accuracy: 0.8092\n",
      "Epoch 140/600\n",
      "34/34 [==============================] - 0s 7ms/step - loss: 0.4881 - accuracy: 0.7871 - val_loss: 0.4685 - val_accuracy: 0.8046\n",
      "Epoch 141/600\n",
      "34/34 [==============================] - 0s 7ms/step - loss: 0.4865 - accuracy: 0.7841 - val_loss: 0.4698 - val_accuracy: 0.7977\n",
      "Epoch 142/600\n",
      "34/34 [==============================] - 0s 7ms/step - loss: 0.4872 - accuracy: 0.7857 - val_loss: 0.4651 - val_accuracy: 0.7966\n",
      "Epoch 143/600\n",
      "34/34 [==============================] - 0s 8ms/step - loss: 0.4890 - accuracy: 0.7836 - val_loss: 0.4676 - val_accuracy: 0.7885\n",
      "Epoch 144/600\n",
      "34/34 [==============================] - 0s 8ms/step - loss: 0.4873 - accuracy: 0.7856 - val_loss: 0.4677 - val_accuracy: 0.7931\n",
      "Epoch 145/600\n",
      "34/34 [==============================] - 0s 7ms/step - loss: 0.4888 - accuracy: 0.7836 - val_loss: 0.4693 - val_accuracy: 0.7862\n",
      "Epoch 146/600\n",
      "34/34 [==============================] - 0s 8ms/step - loss: 0.4894 - accuracy: 0.7835 - val_loss: 0.4918 - val_accuracy: 0.7989\n",
      "Epoch 147/600\n",
      "34/34 [==============================] - 0s 8ms/step - loss: 0.4880 - accuracy: 0.7879 - val_loss: 0.4686 - val_accuracy: 0.7989\n",
      "Epoch 148/600\n",
      "34/34 [==============================] - 0s 8ms/step - loss: 0.4878 - accuracy: 0.7809 - val_loss: 0.4669 - val_accuracy: 0.7931\n",
      "Epoch 149/600\n",
      "34/34 [==============================] - 0s 7ms/step - loss: 0.4883 - accuracy: 0.7848 - val_loss: 0.4671 - val_accuracy: 0.8092\n",
      "Epoch 150/600\n",
      "34/34 [==============================] - 0s 8ms/step - loss: 0.4873 - accuracy: 0.7829 - val_loss: 0.4678 - val_accuracy: 0.8034\n",
      "Epoch 151/600\n",
      "34/34 [==============================] - 0s 8ms/step - loss: 0.4854 - accuracy: 0.7841 - val_loss: 0.4669 - val_accuracy: 0.8046\n",
      "Epoch 152/600\n",
      "34/34 [==============================] - 0s 8ms/step - loss: 0.4884 - accuracy: 0.7830 - val_loss: 0.4645 - val_accuracy: 0.7943\n",
      "Epoch 153/600\n",
      "34/34 [==============================] - 0s 7ms/step - loss: 0.4868 - accuracy: 0.7835 - val_loss: 0.4721 - val_accuracy: 0.8057\n",
      "Epoch 154/600\n",
      "34/34 [==============================] - 0s 8ms/step - loss: 0.4868 - accuracy: 0.7866 - val_loss: 0.4671 - val_accuracy: 0.7885\n",
      "Epoch 155/600\n",
      "34/34 [==============================] - 0s 8ms/step - loss: 0.4834 - accuracy: 0.7850 - val_loss: 0.4637 - val_accuracy: 0.7920\n",
      "Epoch 156/600\n",
      "34/34 [==============================] - 0s 8ms/step - loss: 0.4877 - accuracy: 0.7857 - val_loss: 0.4665 - val_accuracy: 0.7977\n",
      "Epoch 157/600\n",
      "34/34 [==============================] - 0s 8ms/step - loss: 0.4846 - accuracy: 0.7817 - val_loss: 0.4714 - val_accuracy: 0.8034\n",
      "Epoch 158/600\n",
      "34/34 [==============================] - 0s 8ms/step - loss: 0.4852 - accuracy: 0.7836 - val_loss: 0.4649 - val_accuracy: 0.7931\n",
      "Epoch 159/600\n",
      "34/34 [==============================] - 0s 8ms/step - loss: 0.4863 - accuracy: 0.7830 - val_loss: 0.4633 - val_accuracy: 0.7966\n",
      "Epoch 160/600\n",
      "34/34 [==============================] - 0s 8ms/step - loss: 0.4837 - accuracy: 0.7855 - val_loss: 0.4652 - val_accuracy: 0.8046\n",
      "Epoch 161/600\n",
      "34/34 [==============================] - 0s 7ms/step - loss: 0.4859 - accuracy: 0.7817 - val_loss: 0.4641 - val_accuracy: 0.8046\n",
      "Epoch 162/600\n",
      "34/34 [==============================] - 0s 7ms/step - loss: 0.4843 - accuracy: 0.7864 - val_loss: 0.4641 - val_accuracy: 0.7943\n",
      "Epoch 163/600\n",
      "34/34 [==============================] - 0s 7ms/step - loss: 0.4825 - accuracy: 0.7858 - val_loss: 0.4646 - val_accuracy: 0.7989\n",
      "Epoch 164/600\n",
      "34/34 [==============================] - 0s 7ms/step - loss: 0.4831 - accuracy: 0.7851 - val_loss: 0.4675 - val_accuracy: 0.8092\n",
      "Epoch 165/600\n",
      "34/34 [==============================] - 0s 7ms/step - loss: 0.4841 - accuracy: 0.7886 - val_loss: 0.4619 - val_accuracy: 0.8000\n",
      "Epoch 166/600\n",
      "34/34 [==============================] - 0s 8ms/step - loss: 0.4851 - accuracy: 0.7819 - val_loss: 0.4635 - val_accuracy: 0.8080\n",
      "Epoch 167/600\n",
      "34/34 [==============================] - 0s 8ms/step - loss: 0.4839 - accuracy: 0.7861 - val_loss: 0.4658 - val_accuracy: 0.8011\n",
      "Epoch 168/600\n",
      "34/34 [==============================] - 0s 8ms/step - loss: 0.4831 - accuracy: 0.7850 - val_loss: 0.4613 - val_accuracy: 0.8023\n",
      "Epoch 169/600\n",
      "34/34 [==============================] - 0s 7ms/step - loss: 0.4835 - accuracy: 0.7834 - val_loss: 0.4601 - val_accuracy: 0.8034\n",
      "Epoch 170/600\n",
      "34/34 [==============================] - 0s 7ms/step - loss: 0.4845 - accuracy: 0.7810 - val_loss: 0.4603 - val_accuracy: 0.8103\n",
      "Epoch 171/600\n",
      "34/34 [==============================] - 0s 7ms/step - loss: 0.4817 - accuracy: 0.7842 - val_loss: 0.4657 - val_accuracy: 0.8023\n",
      "Epoch 172/600\n",
      "34/34 [==============================] - 0s 8ms/step - loss: 0.4838 - accuracy: 0.7876 - val_loss: 0.4698 - val_accuracy: 0.8034\n",
      "Epoch 173/600\n"
     ]
    },
    {
     "name": "stdout",
     "output_type": "stream",
     "text": [
      "34/34 [==============================] - 0s 7ms/step - loss: 0.4817 - accuracy: 0.7874 - val_loss: 0.4610 - val_accuracy: 0.8057\n",
      "Epoch 174/600\n",
      "34/34 [==============================] - 0s 8ms/step - loss: 0.4803 - accuracy: 0.7878 - val_loss: 0.4613 - val_accuracy: 0.8023\n",
      "Epoch 175/600\n",
      "34/34 [==============================] - 0s 8ms/step - loss: 0.4817 - accuracy: 0.7870 - val_loss: 0.4599 - val_accuracy: 0.7908\n",
      "Epoch 176/600\n",
      "34/34 [==============================] - 0s 8ms/step - loss: 0.4801 - accuracy: 0.7860 - val_loss: 0.4603 - val_accuracy: 0.8092\n",
      "Epoch 177/600\n",
      "34/34 [==============================] - 0s 8ms/step - loss: 0.4793 - accuracy: 0.7864 - val_loss: 0.4584 - val_accuracy: 0.8034\n",
      "Epoch 178/600\n",
      "34/34 [==============================] - 0s 7ms/step - loss: 0.4792 - accuracy: 0.7871 - val_loss: 0.4607 - val_accuracy: 0.8115\n",
      "Epoch 179/600\n",
      "34/34 [==============================] - 0s 8ms/step - loss: 0.4811 - accuracy: 0.7883 - val_loss: 0.4650 - val_accuracy: 0.8069\n",
      "Epoch 180/600\n",
      "34/34 [==============================] - 0s 8ms/step - loss: 0.4825 - accuracy: 0.7851 - val_loss: 0.4708 - val_accuracy: 0.8011\n",
      "Epoch 181/600\n",
      "34/34 [==============================] - 0s 8ms/step - loss: 0.4805 - accuracy: 0.7893 - val_loss: 0.4585 - val_accuracy: 0.8000\n",
      "Epoch 182/600\n",
      "34/34 [==============================] - 0s 8ms/step - loss: 0.4803 - accuracy: 0.7906 - val_loss: 0.4575 - val_accuracy: 0.8046\n",
      "Epoch 183/600\n",
      "34/34 [==============================] - 0s 7ms/step - loss: 0.4794 - accuracy: 0.7888 - val_loss: 0.4598 - val_accuracy: 0.8080\n",
      "Epoch 184/600\n",
      "34/34 [==============================] - 0s 8ms/step - loss: 0.4784 - accuracy: 0.7924 - val_loss: 0.4678 - val_accuracy: 0.7954\n",
      "Epoch 185/600\n",
      "34/34 [==============================] - 0s 8ms/step - loss: 0.4803 - accuracy: 0.7849 - val_loss: 0.4591 - val_accuracy: 0.7977\n",
      "Epoch 186/600\n",
      "34/34 [==============================] - 0s 8ms/step - loss: 0.4794 - accuracy: 0.7855 - val_loss: 0.4571 - val_accuracy: 0.7954\n",
      "Epoch 187/600\n",
      "34/34 [==============================] - 0s 8ms/step - loss: 0.4794 - accuracy: 0.7847 - val_loss: 0.4564 - val_accuracy: 0.8057\n",
      "Epoch 188/600\n",
      "34/34 [==============================] - 0s 8ms/step - loss: 0.4778 - accuracy: 0.7886 - val_loss: 0.4570 - val_accuracy: 0.8023\n",
      "Epoch 189/600\n",
      "34/34 [==============================] - 0s 8ms/step - loss: 0.4792 - accuracy: 0.7903 - val_loss: 0.4572 - val_accuracy: 0.7966\n",
      "Epoch 190/600\n",
      "34/34 [==============================] - 0s 7ms/step - loss: 0.4761 - accuracy: 0.7902 - val_loss: 0.4571 - val_accuracy: 0.8184\n",
      "Epoch 191/600\n",
      "34/34 [==============================] - 0s 8ms/step - loss: 0.4790 - accuracy: 0.7875 - val_loss: 0.4578 - val_accuracy: 0.8034\n",
      "Epoch 192/600\n",
      "34/34 [==============================] - 0s 8ms/step - loss: 0.4765 - accuracy: 0.7876 - val_loss: 0.4605 - val_accuracy: 0.8057\n",
      "Epoch 193/600\n",
      "34/34 [==============================] - 0s 7ms/step - loss: 0.4769 - accuracy: 0.7901 - val_loss: 0.4554 - val_accuracy: 0.8069\n",
      "Epoch 194/600\n",
      "34/34 [==============================] - 0s 8ms/step - loss: 0.4781 - accuracy: 0.7881 - val_loss: 0.4534 - val_accuracy: 0.8080\n",
      "Epoch 195/600\n",
      "34/34 [==============================] - 0s 7ms/step - loss: 0.4781 - accuracy: 0.7885 - val_loss: 0.4555 - val_accuracy: 0.8046\n",
      "Epoch 196/600\n",
      "34/34 [==============================] - 0s 8ms/step - loss: 0.4819 - accuracy: 0.7881 - val_loss: 0.4576 - val_accuracy: 0.8080\n",
      "Epoch 197/600\n",
      "34/34 [==============================] - 0s 7ms/step - loss: 0.4748 - accuracy: 0.7879 - val_loss: 0.4577 - val_accuracy: 0.8000\n",
      "Epoch 198/600\n",
      "34/34 [==============================] - 0s 7ms/step - loss: 0.4778 - accuracy: 0.7836 - val_loss: 0.4603 - val_accuracy: 0.8115\n",
      "Epoch 199/600\n",
      "34/34 [==============================] - 0s 7ms/step - loss: 0.4783 - accuracy: 0.7826 - val_loss: 0.4617 - val_accuracy: 0.8000\n",
      "Epoch 200/600\n",
      "34/34 [==============================] - 0s 7ms/step - loss: 0.4764 - accuracy: 0.7919 - val_loss: 0.4670 - val_accuracy: 0.7943\n",
      "Epoch 201/600\n",
      "34/34 [==============================] - 0s 8ms/step - loss: 0.4762 - accuracy: 0.7843 - val_loss: 0.4562 - val_accuracy: 0.8092\n",
      "Epoch 202/600\n",
      "34/34 [==============================] - 0s 7ms/step - loss: 0.4762 - accuracy: 0.7912 - val_loss: 0.4572 - val_accuracy: 0.8011\n",
      "Epoch 203/600\n",
      "34/34 [==============================] - 0s 8ms/step - loss: 0.4761 - accuracy: 0.7912 - val_loss: 0.4577 - val_accuracy: 0.8000\n",
      "Epoch 204/600\n",
      "34/34 [==============================] - 0s 8ms/step - loss: 0.4764 - accuracy: 0.7918 - val_loss: 0.4553 - val_accuracy: 0.8080\n",
      "Epoch 205/600\n",
      "34/34 [==============================] - 0s 8ms/step - loss: 0.4788 - accuracy: 0.7879 - val_loss: 0.4567 - val_accuracy: 0.8069\n",
      "Epoch 206/600\n",
      "34/34 [==============================] - 0s 8ms/step - loss: 0.4765 - accuracy: 0.7865 - val_loss: 0.4556 - val_accuracy: 0.8034\n",
      "Epoch 207/600\n",
      "34/34 [==============================] - 0s 8ms/step - loss: 0.4781 - accuracy: 0.7881 - val_loss: 0.4552 - val_accuracy: 0.8092\n",
      "Epoch 208/600\n",
      "34/34 [==============================] - 0s 7ms/step - loss: 0.4761 - accuracy: 0.7863 - val_loss: 0.4595 - val_accuracy: 0.8126\n",
      "Epoch 209/600\n",
      "34/34 [==============================] - 0s 8ms/step - loss: 0.4781 - accuracy: 0.7858 - val_loss: 0.4622 - val_accuracy: 0.8115\n",
      "Epoch 210/600\n",
      "34/34 [==============================] - 0s 7ms/step - loss: 0.4760 - accuracy: 0.7881 - val_loss: 0.4543 - val_accuracy: 0.8092\n",
      "Epoch 211/600\n",
      "34/34 [==============================] - 0s 7ms/step - loss: 0.4744 - accuracy: 0.7886 - val_loss: 0.4574 - val_accuracy: 0.8023\n",
      "Epoch 212/600\n",
      "34/34 [==============================] - 0s 7ms/step - loss: 0.4755 - accuracy: 0.7873 - val_loss: 0.4535 - val_accuracy: 0.8103\n",
      "Epoch 213/600\n",
      "34/34 [==============================] - 0s 7ms/step - loss: 0.4761 - accuracy: 0.7922 - val_loss: 0.4536 - val_accuracy: 0.8023\n",
      "Epoch 214/600\n",
      "34/34 [==============================] - 0s 7ms/step - loss: 0.4745 - accuracy: 0.7865 - val_loss: 0.4494 - val_accuracy: 0.8057\n",
      "Epoch 215/600\n",
      "34/34 [==============================] - 0s 7ms/step - loss: 0.4771 - accuracy: 0.7893 - val_loss: 0.4520 - val_accuracy: 0.8046\n",
      "Epoch 216/600\n",
      "34/34 [==============================] - 0s 8ms/step - loss: 0.4777 - accuracy: 0.7874 - val_loss: 0.4521 - val_accuracy: 0.8046\n",
      "Epoch 217/600\n",
      "34/34 [==============================] - 0s 8ms/step - loss: 0.4746 - accuracy: 0.7870 - val_loss: 0.4628 - val_accuracy: 0.8161\n",
      "Epoch 218/600\n",
      "34/34 [==============================] - 0s 8ms/step - loss: 0.4746 - accuracy: 0.7920 - val_loss: 0.4527 - val_accuracy: 0.8034\n",
      "Epoch 219/600\n",
      "34/34 [==============================] - 0s 7ms/step - loss: 0.4772 - accuracy: 0.7858 - val_loss: 0.4520 - val_accuracy: 0.8126\n",
      "Epoch 220/600\n",
      "34/34 [==============================] - 0s 8ms/step - loss: 0.4740 - accuracy: 0.7886 - val_loss: 0.4526 - val_accuracy: 0.8126\n",
      "Epoch 221/600\n",
      "34/34 [==============================] - 0s 8ms/step - loss: 0.4757 - accuracy: 0.7901 - val_loss: 0.4559 - val_accuracy: 0.8115\n",
      "Epoch 222/600\n",
      "34/34 [==============================] - 0s 7ms/step - loss: 0.4752 - accuracy: 0.7841 - val_loss: 0.4497 - val_accuracy: 0.8115\n",
      "Epoch 223/600\n",
      "34/34 [==============================] - 0s 8ms/step - loss: 0.4773 - accuracy: 0.7864 - val_loss: 0.4574 - val_accuracy: 0.8092\n",
      "Epoch 224/600\n",
      "34/34 [==============================] - 0s 8ms/step - loss: 0.4731 - accuracy: 0.7874 - val_loss: 0.4486 - val_accuracy: 0.8126\n",
      "Epoch 225/600\n",
      "34/34 [==============================] - 0s 8ms/step - loss: 0.4729 - accuracy: 0.7868 - val_loss: 0.4499 - val_accuracy: 0.8207\n",
      "Epoch 226/600\n",
      "34/34 [==============================] - 0s 8ms/step - loss: 0.4740 - accuracy: 0.7891 - val_loss: 0.4508 - val_accuracy: 0.8126\n",
      "Epoch 227/600\n",
      "34/34 [==============================] - 0s 8ms/step - loss: 0.4716 - accuracy: 0.7929 - val_loss: 0.4521 - val_accuracy: 0.8092\n",
      "Epoch 228/600\n",
      "34/34 [==============================] - 0s 7ms/step - loss: 0.4764 - accuracy: 0.7875 - val_loss: 0.4514 - val_accuracy: 0.8103\n",
      "Epoch 229/600\n",
      "34/34 [==============================] - 0s 8ms/step - loss: 0.4722 - accuracy: 0.7876 - val_loss: 0.4541 - val_accuracy: 0.8115\n",
      "Epoch 230/600\n"
     ]
    },
    {
     "name": "stdout",
     "output_type": "stream",
     "text": [
      "34/34 [==============================] - 0s 7ms/step - loss: 0.4734 - accuracy: 0.7865 - val_loss: 0.4606 - val_accuracy: 0.8069\n",
      "Epoch 231/600\n",
      "34/34 [==============================] - 0s 8ms/step - loss: 0.4752 - accuracy: 0.7913 - val_loss: 0.4500 - val_accuracy: 0.8057\n",
      "Epoch 232/600\n",
      "34/34 [==============================] - 0s 8ms/step - loss: 0.4720 - accuracy: 0.7912 - val_loss: 0.4507 - val_accuracy: 0.8023\n",
      "Epoch 233/600\n",
      "34/34 [==============================] - 0s 8ms/step - loss: 0.4720 - accuracy: 0.7863 - val_loss: 0.4546 - val_accuracy: 0.7977\n",
      "Epoch 234/600\n",
      "34/34 [==============================] - 0s 7ms/step - loss: 0.4762 - accuracy: 0.7913 - val_loss: 0.4524 - val_accuracy: 0.8011\n",
      "Epoch 235/600\n",
      "34/34 [==============================] - 0s 7ms/step - loss: 0.4718 - accuracy: 0.7928 - val_loss: 0.4533 - val_accuracy: 0.8115\n",
      "Epoch 236/600\n",
      "34/34 [==============================] - 0s 7ms/step - loss: 0.4762 - accuracy: 0.7848 - val_loss: 0.4493 - val_accuracy: 0.8011\n",
      "Epoch 237/600\n",
      "34/34 [==============================] - 0s 7ms/step - loss: 0.4698 - accuracy: 0.7903 - val_loss: 0.4512 - val_accuracy: 0.8000\n",
      "Epoch 238/600\n",
      "34/34 [==============================] - 0s 8ms/step - loss: 0.4755 - accuracy: 0.7910 - val_loss: 0.4514 - val_accuracy: 0.8046\n",
      "Epoch 239/600\n",
      "34/34 [==============================] - 0s 8ms/step - loss: 0.4742 - accuracy: 0.7880 - val_loss: 0.4548 - val_accuracy: 0.8069\n",
      "Epoch 240/600\n",
      "34/34 [==============================] - 0s 8ms/step - loss: 0.4750 - accuracy: 0.7868 - val_loss: 0.4535 - val_accuracy: 0.8092\n",
      "Epoch 241/600\n",
      "34/34 [==============================] - 0s 8ms/step - loss: 0.4749 - accuracy: 0.7937 - val_loss: 0.4529 - val_accuracy: 0.8034\n",
      "Epoch 242/600\n",
      "34/34 [==============================] - 0s 8ms/step - loss: 0.4720 - accuracy: 0.7878 - val_loss: 0.4532 - val_accuracy: 0.8011\n",
      "Epoch 243/600\n",
      "34/34 [==============================] - 0s 7ms/step - loss: 0.4726 - accuracy: 0.7908 - val_loss: 0.4491 - val_accuracy: 0.8126\n",
      "Epoch 244/600\n",
      "34/34 [==============================] - 0s 8ms/step - loss: 0.4706 - accuracy: 0.7926 - val_loss: 0.4532 - val_accuracy: 0.8103\n",
      "Epoch 245/600\n",
      "34/34 [==============================] - 0s 8ms/step - loss: 0.4729 - accuracy: 0.7897 - val_loss: 0.4506 - val_accuracy: 0.8126\n",
      "Epoch 246/600\n",
      "34/34 [==============================] - 0s 8ms/step - loss: 0.4698 - accuracy: 0.7889 - val_loss: 0.4519 - val_accuracy: 0.8195\n",
      "Epoch 247/600\n",
      "34/34 [==============================] - 0s 8ms/step - loss: 0.4726 - accuracy: 0.7887 - val_loss: 0.4498 - val_accuracy: 0.8011\n",
      "Epoch 248/600\n",
      "34/34 [==============================] - 0s 7ms/step - loss: 0.4719 - accuracy: 0.7858 - val_loss: 0.4493 - val_accuracy: 0.8103\n",
      "Epoch 249/600\n",
      "34/34 [==============================] - 0s 8ms/step - loss: 0.4718 - accuracy: 0.7905 - val_loss: 0.4519 - val_accuracy: 0.8161\n",
      "Epoch 249: early stopping\n"
     ]
    },
    {
     "data": {
      "text/plain": [
       "<keras.callbacks.History at 0x23fd75e99a0>"
      ]
     },
     "execution_count": 321,
     "metadata": {},
     "output_type": "execute_result"
    }
   ],
   "source": [
    "model.fit(X,y,epochs=600,batch_size=256,validation_data=(X_cv,y_cv),callbacks=[earlystop])"
   ]
  },
  {
   "cell_type": "code",
   "execution_count": 322,
   "id": "ea487450",
   "metadata": {},
   "outputs": [
    {
     "data": {
      "text/plain": [
       "<AxesSubplot:>"
      ]
     },
     "execution_count": 322,
     "metadata": {},
     "output_type": "execute_result"
    },
    {
     "data": {
      "image/png": "[encoded data removed]",
      "text/plain": [
       "<Figure size 432x288 with 1 Axes>"
      ]
     },
     "metadata": {
      "needs_background": "light"
     },
     "output_type": "display_data"
    }
   ],
   "source": [
    "# CODE HERE\n",
    "losses = pd.DataFrame(model.history.history)\n",
    "losses[['val_loss','loss']].plot()"
   ]
  },
  {
   "cell_type": "code",
   "execution_count": 323,
   "id": "8239aeb7",
   "metadata": {},
   "outputs": [],
   "source": [
    "pred = (model.predict(X_cv) > 0.5).astype(\"int32\")"
   ]
  },
  {
   "cell_type": "code",
   "execution_count": 324,
   "id": "30770cf8",
   "metadata": {},
   "outputs": [
    {
     "name": "stdout",
     "output_type": "stream",
     "text": [
      "0.8210290827740493\n",
      "\n",
      "0.8160919540229885\n",
      "\n",
      "[[343  65]\n",
      " [ 95 367]]\n",
      "\n",
      "              precision    recall  f1-score   support\n",
      "\n",
      "           0       0.78      0.84      0.81       408\n",
      "           1       0.85      0.79      0.82       462\n",
      "\n",
      "    accuracy                           0.82       870\n",
      "   macro avg       0.82      0.82      0.82       870\n",
      "weighted avg       0.82      0.82      0.82       870\n",
      "\n"
     ]
    }
   ],
   "source": [
    "print(f1_score(pred,y_cv))\n",
    "print()\n",
    "print(accuracy_score(pred,y_cv))\n",
    "print()\n",
    "print(confusion_matrix(pred,y_cv))\n",
    "print()\n",
    "print(classification_report(pred,y_cv))"
   ]
  },
  {
   "cell_type": "code",
   "execution_count": 227,
   "id": "bc905eb3",
   "metadata": {},
   "outputs": [],
   "source": [
    "pass_id = df_test['PassengerId']"
   ]
  },
  {
   "cell_type": "code",
   "execution_count": 231,
   "id": "fc0f9356",
   "metadata": {},
   "outputs": [],
   "source": [
    "def func(num):\n",
    "    if num==0:\n",
    "        return False\n",
    "    else:\n",
    "        return True"
   ]
  },
  {
   "cell_type": "code",
   "execution_count": 325,
   "id": "ce7f9ca7",
   "metadata": {},
   "outputs": [],
   "source": [
    "pred = (model.predict(X_test) > 0.5).astype(\"int32\")\n",
    "pred = pd.DataFrame(pred,columns = ['Transported'])\n",
    "pred['Transported'] = pred['Transported'].apply(func)\n",
    "pred = pd.concat([pass_id,pred],axis=1)\n",
    "pred.to_csv('pred_NeuralNetwork6.csv',index = False)"
   ]
  },
  {
   "cell_type": "code",
   "execution_count": null,
   "id": "a7bf1dfd",
   "metadata": {},
   "outputs": [],
   "source": []
  },
  {
   "cell_type": "code",
   "execution_count": null,
   "id": "988bf180",
   "metadata": {},
   "outputs": [],
   "source": []
  },
  {
   "cell_type": "code",
   "execution_count": null,
   "id": "c5ed7c87",
   "metadata": {},
   "outputs": [],
   "source": []
  },
  {
   "cell_type": "code",
   "execution_count": null,
   "id": "39d8b3bf",
   "metadata": {},
   "outputs": [],
   "source": []
  },
  {
   "cell_type": "code",
   "execution_count": null,
   "id": "f8633698",
   "metadata": {},
   "outputs": [],
   "source": []
  },
  {
   "cell_type": "code",
   "execution_count": null,
   "id": "922cb26e",
   "metadata": {},
   "outputs": [],
   "source": []
  },
  {
   "cell_type": "code",
   "execution_count": null,
   "id": "63325779",
   "metadata": {},
   "outputs": [],
   "source": []
  },
  {
   "cell_type": "code",
   "execution_count": null,
   "id": "f3797745",
   "metadata": {},
   "outputs": [],
   "source": []
  },
  {
   "cell_type": "code",
   "execution_count": null,
   "id": "4a959805",
   "metadata": {},
   "outputs": [],
   "source": []
  },
  {
   "cell_type": "code",
   "execution_count": null,
   "id": "0517668d",
   "metadata": {},
   "outputs": [],
   "source": []
  },
  {
   "cell_type": "code",
   "execution_count": null,
   "id": "43f05f63",
   "metadata": {},
   "outputs": [],
   "source": []
  },
  {
   "cell_type": "code",
   "execution_count": null,
   "id": "cd03d6a6",
   "metadata": {},
   "outputs": [],
   "source": []
  },
  {
   "cell_type": "code",
   "execution_count": null,
   "id": "107637f9",
   "metadata": {},
   "outputs": [],
   "source": []
  },
  {
   "cell_type": "code",
   "execution_count": null,
   "id": "6c20d28c",
   "metadata": {},
   "outputs": [],
   "source": []
  }
 ],
 "metadata": {
  "kernelspec": {
   "display_name": "Python 3 (ipykernel)",
   "language": "python",
   "name": "python3"
  },
  "language_info": {
   "codemirror_mode": {
    "name": "ipython",
    "version": 3
   },
   "file_extension": ".py",
   "mimetype": "text/x-python",
   "name": "python",
   "nbconvert_exporter": "python",
   "pygments_lexer": "ipython3",
   "version": "3.9.7"
  }
 },
 "nbformat": 4,
 "nbformat_minor": 5
}
